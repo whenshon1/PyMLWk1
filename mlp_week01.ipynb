{
 "cells": [
  {
   "cell_type": "markdown",
   "id": "8f78c140",
   "metadata": {},
   "source": [
    "# Week 01 - Data Pre-Processing\n",
    "\n",
    "## Aims\n",
    "\n",
    "By the end of this notebook you will \n",
    "\n",
    "* understand and play with the different aspects of data pre-processing\n",
    "* be familiar with tools for exploratory data analysis and visualization\n",
    "* understand the basics of feature engineering\n",
    "\n",
    "## Topics and Instructions\n",
    "\n",
    "1. [Problem Definition and Setup](#setup)\n",
    "\n",
    "2. [Exploratory Data Analysis](#eda)\n",
    "\n",
    "3. [Data Preprocessing](#prep)\n",
    "\n",
    "4. [Feature Engineering](#engin)\n",
    "\n",
    "5. [Summary](#sum)"
   ]
  },
  {
   "cell_type": "markdown",
   "id": "d8862515",
   "metadata": {},
   "source": [
    "In lecture this week, we reviewed the general **machine learning pipline**, which following the [\"Machine Learning Project Checklist\"](https://github.com/ageron/handson-ml/blob/master/ml-project-checklist.md) of Geron (2019) can be stuctured as:\n",
    "\n",
    ">- Frame the problem and look at the big picture.\n",
    ">- Get the data.\n",
    ">- Explore the data and gain insights.\n",
    ">- Prepare the data to better expose the underlying data patterns to Machine Learning algorithms.\n",
    ">- Explore many different models and shortlist the best ones.\n",
    ">- Fine-tune your models and combine them into a great solution.\n",
    ">- Present your solution.\n",
    ">- Launch, monitor, and mantain your system.\n",
    "\n",
    "In this week's workshop, we will focus on the initial steps of this pipeline, that is on, data pre-processing, exploratory data analysis and feature engineering.\n",
    "\n",
    "During workshops, you will complete the worksheets together in teams of 2-3, using **pair programming**. During the first few weeks, the worksheets will contain cues to switch roles between driver and navigator. When completing worksheets:\n",
    "\n",
    ">- You will have tasks tagged by (CORE) and (EXTRA). \n",
    ">- Your primary aim is to complete the (CORE) components during the WS session, afterwards you can try to complete the (EXTRA) tasks for your self-learning process. \n",
    ">- Look for the 🏁 as cue to switch roles between driver and navigator.\n",
    ">- In some Exercises, you will see some beneficial hints at the bottom of questions.\n",
    "\n",
    "Instructions for submitting your workshops can be found at the end of worksheet. As a reminder, you must submit a pdf of your notebook on Learn by 16:00 PM on the Friday of the week the workshop was given. "
   ]
  },
  {
   "cell_type": "markdown",
   "id": "23c0c3c9",
   "metadata": {},
   "source": [
    "# Problem Definition and Setup <a id='setup'></a>"
   ]
  },
  {
   "cell_type": "markdown",
   "id": "73d830b3",
   "metadata": {},
   "source": [
    "## Packages\n",
    "\n",
    "Now lets load in some packages to get us started. The following are widely used libraries to start working with Python in general."
   ]
  },
  {
   "cell_type": "code",
   "execution_count": 5,
   "id": "5fba9ca3",
   "metadata": {},
   "outputs": [],
   "source": [
    "import numpy as np\n",
    "import pandas as pd\n",
    "import seaborn as sns\n",
    "import matplotlib.pyplot as plt\n",
    "from scipy import stats"
   ]
  },
  {
   "cell_type": "markdown",
   "id": "71cd4cc0",
   "metadata": {},
   "source": [
    "If you need to install any packages from scratch, you need to install the related library before calling it. For instance, [feature-engine](https://feature-engine.trainindata.com/en/latest/) is a Python library for Feature Engineering and Selection, which: \n",
    "\n",
    "- contains multiple transformers to engineer and select features to use in machine learning models.\n",
    "\n",
    "- preserves scikit-learn functionality with methods fit() and transform() to learn parameters from and then transform the data."
   ]
  },
  {
   "cell_type": "code",
   "execution_count": 6,
   "id": "9fb8d2d3",
   "metadata": {},
   "outputs": [],
   "source": [
    "# To install the feature-engine library (if not already installed)\n",
    "# !pip install feature-engine"
   ]
  },
  {
   "cell_type": "markdown",
   "id": "b0ca0145",
   "metadata": {},
   "source": [
    "In some cases, we may need only a component of the whole library. If this is the case, it is possible to import specific things from a module (library), using the following line of code:"
   ]
  },
  {
   "cell_type": "code",
   "execution_count": 7,
   "id": "39ef6aac",
   "metadata": {},
   "outputs": [],
   "source": [
    "from feature_engine.imputation import DropMissingData"
   ]
  },
  {
   "cell_type": "markdown",
   "id": "4400191a",
   "metadata": {},
   "source": [
    "## Problem\n",
    "\n",
    "Now, it is time move on to the next step.\n",
    "\n",
    "> Welcome to Machine Learning Housing Corporation! The first task you are asked to perform is to build a model of housing prices in California using the California census data. This data has metrics such as the population, median income, median housing price, and so on for each block group in California. Block groups are the smallest geographical unit for which the US Census Bureau publishes sample data (a block group typically has a population of 600 to 3,000 people). We will just call them “districts” for short.\n",
    ">\n",
    "> **Your model should learn from this data and be able to predict the median housing price in any district, given all the other metrics.**\n",
    ">\n",
    "> The first question to ask your boss is what exactly is the business objective; building a model is probably not the end goal. **How does the company expect to use and benefit from this model?** This is important because it will determine how you frame the problem, what algorithms you will select, what performance measure you will use to evaluate your model, and how much effort you should spend tweaking it.\n",
    ">\n",
    "> The next question to ask is **what the current solution looks like (if any)**. It will often give you a reference performance, as well as insights on how to solve the problem. Your boss answers that the district housing prices are currently estimated manually by experts: a team gathers up-to-date information about a district, and when they cannot get the median housing price, they estimate it using complex rules.\n",
    ">\n",
    "> This is costly and time-consuming, and their estimates are not great; in cases where they manage to find out the actual median housing price, they often realize that their estimates were off by more than 20%. This is why the company thinks that it would be useful to train a model to predict a district’s median housing price given other data about that district. The census data looks like a great dataset to exploit for this purpose, since it includes the median housing prices of thousands of districts, as well as other data.\n",
    "\n",
    "---"
   ]
  },
  {
   "cell_type": "markdown",
   "id": "a0831296-b285-4fcd-a4bd-c650afc17e80",
   "metadata": {},
   "source": [
    "### 🚩 Exercise 1 (CORE)\n",
    "\n",
    "Using the information above answer the following questions about how you may design your machine learning system.\n",
    "\n",
    "a) Is this a supervised or unsupervised learning task? "
   ]
  },
  {
   "cell_type": "markdown",
   "id": "c0969486-871f-451e-95ac-5fda59b50e75",
   "metadata": {},
   "source": [
    "Supervised"
   ]
  },
  {
   "cell_type": "markdown",
   "id": "d2a490f1-f01c-45ad-b5db-2012f5d90b5f",
   "metadata": {},
   "source": [
    "b) Is this a classification, regression, or some other task?"
   ]
  },
  {
   "cell_type": "markdown",
   "id": "c293a886-4353-479f-a1b6-b75b42c087ac",
   "metadata": {},
   "source": [
    "Regression"
   ]
  },
  {
   "cell_type": "markdown",
   "id": "980d7283-8c7b-4f97-89fc-3585b51fa53a",
   "metadata": {},
   "source": [
    "c) Suppose you are only required to predict if a district's median housing prices are \"cheap,\" \"medium,\" or \"expensive\". Will this be the same or a different task?"
   ]
  },
  {
   "cell_type": "markdown",
   "id": "840905cc-cb04-4b48-9663-0428edf03a86",
   "metadata": {},
   "source": [
    "This would then be a classification task."
   ]
  },
  {
   "cell_type": "markdown",
   "id": "f1aebaad",
   "metadata": {},
   "source": [
    "## Data Download\n",
    "\n",
    "The data we will be using this week is a modified version of the California Housing dataset. We can get the data a number of ways. The easiest is just to load it from the working directory that we are working on (where we have already downloaded it to)."
   ]
  },
  {
   "cell_type": "code",
   "execution_count": 17,
   "id": "01bb7626",
   "metadata": {},
   "outputs": [
    {
     "data": {
      "text/html": [
       "<div>\n",
       "<style scoped>\n",
       "    .dataframe tbody tr th:only-of-type {\n",
       "        vertical-align: middle;\n",
       "    }\n",
       "\n",
       "    .dataframe tbody tr th {\n",
       "        vertical-align: top;\n",
       "    }\n",
       "\n",
       "    .dataframe thead th {\n",
       "        text-align: right;\n",
       "    }\n",
       "</style>\n",
       "<table border=\"1\" class=\"dataframe\">\n",
       "  <thead>\n",
       "    <tr style=\"text-align: right;\">\n",
       "      <th></th>\n",
       "      <th>longitude</th>\n",
       "      <th>latitude</th>\n",
       "      <th>housing_median_age</th>\n",
       "      <th>total_rooms</th>\n",
       "      <th>total_bedrooms</th>\n",
       "      <th>population</th>\n",
       "      <th>households</th>\n",
       "      <th>median_income</th>\n",
       "      <th>median_house_value</th>\n",
       "      <th>ocean_proximity</th>\n",
       "    </tr>\n",
       "  </thead>\n",
       "  <tbody>\n",
       "    <tr>\n",
       "      <th>0</th>\n",
       "      <td>-122.23</td>\n",
       "      <td>37.88</td>\n",
       "      <td>41.0</td>\n",
       "      <td>880.0</td>\n",
       "      <td>129.0</td>\n",
       "      <td>322.0</td>\n",
       "      <td>126.0</td>\n",
       "      <td>8.3252</td>\n",
       "      <td>452600.0</td>\n",
       "      <td>NEAR BAY</td>\n",
       "    </tr>\n",
       "    <tr>\n",
       "      <th>1</th>\n",
       "      <td>-122.22</td>\n",
       "      <td>37.86</td>\n",
       "      <td>21.0</td>\n",
       "      <td>7099.0</td>\n",
       "      <td>1106.0</td>\n",
       "      <td>2401.0</td>\n",
       "      <td>1138.0</td>\n",
       "      <td>8.3014</td>\n",
       "      <td>358500.0</td>\n",
       "      <td>NEAR BAY</td>\n",
       "    </tr>\n",
       "    <tr>\n",
       "      <th>2</th>\n",
       "      <td>-122.24</td>\n",
       "      <td>37.85</td>\n",
       "      <td>52.0</td>\n",
       "      <td>1467.0</td>\n",
       "      <td>190.0</td>\n",
       "      <td>496.0</td>\n",
       "      <td>177.0</td>\n",
       "      <td>7.2574</td>\n",
       "      <td>352100.0</td>\n",
       "      <td>NEAR BAY</td>\n",
       "    </tr>\n",
       "    <tr>\n",
       "      <th>3</th>\n",
       "      <td>-122.25</td>\n",
       "      <td>37.85</td>\n",
       "      <td>52.0</td>\n",
       "      <td>1274.0</td>\n",
       "      <td>235.0</td>\n",
       "      <td>558.0</td>\n",
       "      <td>219.0</td>\n",
       "      <td>5.6431</td>\n",
       "      <td>341300.0</td>\n",
       "      <td>NEAR BAY</td>\n",
       "    </tr>\n",
       "    <tr>\n",
       "      <th>4</th>\n",
       "      <td>-122.25</td>\n",
       "      <td>37.85</td>\n",
       "      <td>52.0</td>\n",
       "      <td>1627.0</td>\n",
       "      <td>280.0</td>\n",
       "      <td>565.0</td>\n",
       "      <td>259.0</td>\n",
       "      <td>3.8462</td>\n",
       "      <td>342200.0</td>\n",
       "      <td>NEAR BAY</td>\n",
       "    </tr>\n",
       "  </tbody>\n",
       "</table>\n",
       "</div>"
      ],
      "text/plain": [
       "   longitude  latitude  housing_median_age  total_rooms  total_bedrooms  \\\n",
       "0    -122.23     37.88                41.0        880.0           129.0   \n",
       "1    -122.22     37.86                21.0       7099.0          1106.0   \n",
       "2    -122.24     37.85                52.0       1467.0           190.0   \n",
       "3    -122.25     37.85                52.0       1274.0           235.0   \n",
       "4    -122.25     37.85                52.0       1627.0           280.0   \n",
       "\n",
       "   population  households  median_income  median_house_value ocean_proximity  \n",
       "0       322.0       126.0         8.3252            452600.0        NEAR BAY  \n",
       "1      2401.0      1138.0         8.3014            358500.0        NEAR BAY  \n",
       "2       496.0       177.0         7.2574            352100.0        NEAR BAY  \n",
       "3       558.0       219.0         5.6431            341300.0        NEAR BAY  \n",
       "4       565.0       259.0         3.8462            342200.0        NEAR BAY  "
      ]
     },
     "execution_count": 17,
     "metadata": {},
     "output_type": "execute_result"
    }
   ],
   "source": [
    "housing = pd.read_csv(\"housing.csv\")\n",
    "housing.head()"
   ]
  },
  {
   "cell_type": "markdown",
   "id": "361cf03a",
   "metadata": {},
   "source": [
    "# Exploratory Data Analysis <a id='eda'></a>\n",
    "\n",
    "In this section we are going to start with exploring the California Housing data using methods that you will likely already be familiar with.\n",
    "\n",
    "Data can come in a broad range of forms encompassing a collection of discrete objects, numbers, words, events, facts, measurements, observations, or even descriptions of things. Processing data using exploratory data analysis (EDA) can elicit useful information and knowledge by examining the available dataset to discover patterns, spot anomalies, test hypotheses, and check assumptions. \n",
    "\n",
    "Let's start by examining the [Data Dictionary](https://www.kaggle.com/camnugent/california-housing-prices) and the variables available:\n",
    "\n",
    "> `longitude`: A measure of how far west a house is; a higher value is farther west\n",
    ">\n",
    "> `latitude`: A measure of how far north a house is; a higher value is farther north\n",
    ">\n",
    "> `housingMedianAge`: Median age of a house within a block; a lower number is a newer building\n",
    ">\n",
    "> `totalRooms`: Total number of rooms within a block\n",
    ">\n",
    "> `totalBedrooms`: Total number of bedrooms within a block\n",
    ">\n",
    "> `population`: Total number of people residing within a block\n",
    ">\n",
    "> `households`: Total number of households, a group of people residing within a home unit, for a block\n",
    ">\n",
    "> `medianIncome`: Median income for households within a block of houses (measured in tens of thousands of US Dollars)\n",
    ">\n",
    "> `medianHouseValue`: Median house value for households within a block (measured in US Dollars)\n",
    ">\n",
    "> `oceanProximity`: Location of the house w.r.t ocean/sea"
   ]
  },
  {
   "cell_type": "markdown",
   "id": "b7ec2ea5",
   "metadata": {},
   "source": [
    "### 🚩 Exercise 2 (CORE)\n",
    "\n",
    "a) Examine the datatypes for each column calling [`info()`](https://pandas.pydata.org/docs/reference/api/pandas.DataFrame.info.html). What is the total number of observations and total number of variables? What is the type of each variable?"
   ]
  },
  {
   "cell_type": "code",
   "execution_count": 21,
   "id": "aeafbb91",
   "metadata": {},
   "outputs": [
    {
     "name": "stdout",
     "output_type": "stream",
     "text": [
      "<class 'pandas.core.frame.DataFrame'>\n",
      "RangeIndex: 20640 entries, 0 to 20639\n",
      "Data columns (total 10 columns):\n",
      " #   Column              Non-Null Count  Dtype  \n",
      "---  ------              --------------  -----  \n",
      " 0   longitude           20640 non-null  float64\n",
      " 1   latitude            20640 non-null  float64\n",
      " 2   housing_median_age  20640 non-null  float64\n",
      " 3   total_rooms         20640 non-null  float64\n",
      " 4   total_bedrooms      20433 non-null  float64\n",
      " 5   population          20640 non-null  float64\n",
      " 6   households          20640 non-null  float64\n",
      " 7   median_income       20640 non-null  float64\n",
      " 8   median_house_value  20640 non-null  float64\n",
      " 9   ocean_proximity     20640 non-null  object \n",
      "dtypes: float64(9), object(1)\n",
      "memory usage: 1.6+ MB\n"
     ]
    },
    {
     "data": {
      "text/plain": [
       "array(['NEAR BAY', '<1H OCEAN', 'INLAND', 'NEAR OCEAN', 'ISLAND'],\n",
       "      dtype=object)"
      ]
     },
     "execution_count": 21,
     "metadata": {},
     "output_type": "execute_result"
    }
   ],
   "source": [
    "housing.info()\n",
    "\n",
    "# Finding all the different values that this category can take.\n",
    "housing[\"ocean_proximity\"].unique()"
   ]
  },
  {
   "cell_type": "markdown",
   "id": "8b58d919",
   "metadata": {},
   "source": [
    "There are 20640 observations in total.\n",
    "There are 10 different variables.\n",
    "All variables are floats, so real numbers, except ocean_proximity, which is a category with 5 different options."
   ]
  },
  {
   "cell_type": "markdown",
   "id": "47548a33",
   "metadata": {},
   "source": [
    "b) From the information provided above, can you anticipate any data cleaning we may need to do?"
   ]
  },
  {
   "cell_type": "markdown",
   "id": "5ff87d4d",
   "metadata": {},
   "source": [
    "There are some null values for the total_bedrooms variable which may need to be removed."
   ]
  },
  {
   "cell_type": "markdown",
   "id": "86fadd4d",
   "metadata": {},
   "source": [
    "### 🚩 Exercise 3  (CORE)\n",
    "\n",
    "a) Use descriptive statistics and histograms to examine the distributions of the numerical attributes.\n",
    "<br><br>\n",
    "<details><summary><b><u>Hint</b></u></summary>\n",
    "    \n",
    "- <code>.describe()</code> can be used to create summary descriptive statistics on a pandas dataframe.\n",
    "- You can use a <code>sns.histplot</code> to create histograms\n",
    "    \n",
    "</details>"
   ]
  },
  {
   "cell_type": "code",
   "execution_count": 23,
   "id": "9a98ff62",
   "metadata": {},
   "outputs": [
    {
     "data": {
      "text/html": [
       "<div>\n",
       "<style scoped>\n",
       "    .dataframe tbody tr th:only-of-type {\n",
       "        vertical-align: middle;\n",
       "    }\n",
       "\n",
       "    .dataframe tbody tr th {\n",
       "        vertical-align: top;\n",
       "    }\n",
       "\n",
       "    .dataframe thead th {\n",
       "        text-align: right;\n",
       "    }\n",
       "</style>\n",
       "<table border=\"1\" class=\"dataframe\">\n",
       "  <thead>\n",
       "    <tr style=\"text-align: right;\">\n",
       "      <th></th>\n",
       "      <th>longitude</th>\n",
       "      <th>latitude</th>\n",
       "      <th>housing_median_age</th>\n",
       "      <th>total_rooms</th>\n",
       "      <th>total_bedrooms</th>\n",
       "      <th>population</th>\n",
       "      <th>households</th>\n",
       "      <th>median_income</th>\n",
       "      <th>median_house_value</th>\n",
       "    </tr>\n",
       "  </thead>\n",
       "  <tbody>\n",
       "    <tr>\n",
       "      <th>count</th>\n",
       "      <td>20640.000000</td>\n",
       "      <td>20640.000000</td>\n",
       "      <td>20640.000000</td>\n",
       "      <td>20640.000000</td>\n",
       "      <td>20433.000000</td>\n",
       "      <td>20640.000000</td>\n",
       "      <td>20640.000000</td>\n",
       "      <td>20640.000000</td>\n",
       "      <td>20640.000000</td>\n",
       "    </tr>\n",
       "    <tr>\n",
       "      <th>mean</th>\n",
       "      <td>-119.569704</td>\n",
       "      <td>35.631861</td>\n",
       "      <td>28.639486</td>\n",
       "      <td>2635.763081</td>\n",
       "      <td>537.870553</td>\n",
       "      <td>1425.476744</td>\n",
       "      <td>499.539680</td>\n",
       "      <td>3.870671</td>\n",
       "      <td>206855.816909</td>\n",
       "    </tr>\n",
       "    <tr>\n",
       "      <th>std</th>\n",
       "      <td>2.003532</td>\n",
       "      <td>2.135952</td>\n",
       "      <td>12.585558</td>\n",
       "      <td>2181.615252</td>\n",
       "      <td>421.385070</td>\n",
       "      <td>1132.462122</td>\n",
       "      <td>382.329753</td>\n",
       "      <td>1.899822</td>\n",
       "      <td>115395.615874</td>\n",
       "    </tr>\n",
       "    <tr>\n",
       "      <th>min</th>\n",
       "      <td>-124.350000</td>\n",
       "      <td>32.540000</td>\n",
       "      <td>1.000000</td>\n",
       "      <td>2.000000</td>\n",
       "      <td>1.000000</td>\n",
       "      <td>3.000000</td>\n",
       "      <td>1.000000</td>\n",
       "      <td>0.499900</td>\n",
       "      <td>14999.000000</td>\n",
       "    </tr>\n",
       "    <tr>\n",
       "      <th>25%</th>\n",
       "      <td>-121.800000</td>\n",
       "      <td>33.930000</td>\n",
       "      <td>18.000000</td>\n",
       "      <td>1447.750000</td>\n",
       "      <td>296.000000</td>\n",
       "      <td>787.000000</td>\n",
       "      <td>280.000000</td>\n",
       "      <td>2.563400</td>\n",
       "      <td>119600.000000</td>\n",
       "    </tr>\n",
       "    <tr>\n",
       "      <th>50%</th>\n",
       "      <td>-118.490000</td>\n",
       "      <td>34.260000</td>\n",
       "      <td>29.000000</td>\n",
       "      <td>2127.000000</td>\n",
       "      <td>435.000000</td>\n",
       "      <td>1166.000000</td>\n",
       "      <td>409.000000</td>\n",
       "      <td>3.534800</td>\n",
       "      <td>179700.000000</td>\n",
       "    </tr>\n",
       "    <tr>\n",
       "      <th>75%</th>\n",
       "      <td>-118.010000</td>\n",
       "      <td>37.710000</td>\n",
       "      <td>37.000000</td>\n",
       "      <td>3148.000000</td>\n",
       "      <td>647.000000</td>\n",
       "      <td>1725.000000</td>\n",
       "      <td>605.000000</td>\n",
       "      <td>4.743250</td>\n",
       "      <td>264725.000000</td>\n",
       "    </tr>\n",
       "    <tr>\n",
       "      <th>max</th>\n",
       "      <td>-114.310000</td>\n",
       "      <td>41.950000</td>\n",
       "      <td>52.000000</td>\n",
       "      <td>39320.000000</td>\n",
       "      <td>6445.000000</td>\n",
       "      <td>35682.000000</td>\n",
       "      <td>6082.000000</td>\n",
       "      <td>15.000100</td>\n",
       "      <td>500001.000000</td>\n",
       "    </tr>\n",
       "  </tbody>\n",
       "</table>\n",
       "</div>"
      ],
      "text/plain": [
       "          longitude      latitude  housing_median_age   total_rooms  \\\n",
       "count  20640.000000  20640.000000        20640.000000  20640.000000   \n",
       "mean    -119.569704     35.631861           28.639486   2635.763081   \n",
       "std        2.003532      2.135952           12.585558   2181.615252   \n",
       "min     -124.350000     32.540000            1.000000      2.000000   \n",
       "25%     -121.800000     33.930000           18.000000   1447.750000   \n",
       "50%     -118.490000     34.260000           29.000000   2127.000000   \n",
       "75%     -118.010000     37.710000           37.000000   3148.000000   \n",
       "max     -114.310000     41.950000           52.000000  39320.000000   \n",
       "\n",
       "       total_bedrooms    population    households  median_income  \\\n",
       "count    20433.000000  20640.000000  20640.000000   20640.000000   \n",
       "mean       537.870553   1425.476744    499.539680       3.870671   \n",
       "std        421.385070   1132.462122    382.329753       1.899822   \n",
       "min          1.000000      3.000000      1.000000       0.499900   \n",
       "25%        296.000000    787.000000    280.000000       2.563400   \n",
       "50%        435.000000   1166.000000    409.000000       3.534800   \n",
       "75%        647.000000   1725.000000    605.000000       4.743250   \n",
       "max       6445.000000  35682.000000   6082.000000      15.000100   \n",
       "\n",
       "       median_house_value  \n",
       "count        20640.000000  \n",
       "mean        206855.816909  \n",
       "std         115395.615874  \n",
       "min          14999.000000  \n",
       "25%         119600.000000  \n",
       "50%         179700.000000  \n",
       "75%         264725.000000  \n",
       "max         500001.000000  "
      ]
     },
     "execution_count": 23,
     "metadata": {},
     "output_type": "execute_result"
    }
   ],
   "source": [
    "housing.describe()"
   ]
  },
  {
   "cell_type": "code",
   "execution_count": null,
   "id": "01b22809",
   "metadata": {},
   "outputs": [],
   "source": []
  },
  {
   "cell_type": "markdown",
   "id": "ca59f26b",
   "metadata": {},
   "source": [
    "b) Can you identify other pre-processing/feature engineering steps we may need to do?"
   ]
  },
  {
   "cell_type": "markdown",
   "id": "6246efc3",
   "metadata": {},
   "source": []
  },
  {
   "cell_type": "markdown",
   "id": "15648a8b",
   "metadata": {},
   "source": [
    "c) One thing you may have noticed from the histogram is that the median income, housing median age, and the median house value are capped. The median house value capping (this being our target value) may or may not be a problem depending on your client. If we needed precise predictions beyond $\\$500,000$, we may need to either collect proper labels/outputs for the districts whose labels were capped or remove these districts from the data. Following the latter, remove all districts whose median house value is capped. How many observations are there now?"
   ]
  },
  {
   "cell_type": "code",
   "execution_count": 9,
   "id": "328405c0",
   "metadata": {},
   "outputs": [],
   "source": [
    "# Remove the cases where median_house_value >= 500,000$\n",
    "housing = housing[housing[\"median_house_value\"] < 500000]"
   ]
  },
  {
   "cell_type": "markdown",
   "id": "a834a08b",
   "metadata": {},
   "source": [
    "\n",
    "### 🚩 Exercise 4 (CORE)\n",
    "\n",
    "What are the possible categories for the `ocean_proximity` variable? Are the number of instances in each category similar? "
   ]
  },
  {
   "cell_type": "markdown",
   "id": "aedd895b",
   "metadata": {},
   "source": [
    "<br><br>\n",
    "<details><summary><b><u>Hint</b></u></summary>\n",
    "    \n",
    "- <code>.value_counts()</code> can be used to find the unique categories and compute the counts.\n",
    "- You can use a <code>sns.countplot</code> to visualize the counts for each category\n",
    "    \n",
    "</details>"
   ]
  },
  {
   "cell_type": "code",
   "execution_count": null,
   "id": "9fb141c0",
   "metadata": {},
   "outputs": [],
   "source": []
  },
  {
   "cell_type": "markdown",
   "id": "cf51551b",
   "metadata": {},
   "source": []
  },
  {
   "cell_type": "markdown",
   "id": "58e581de",
   "metadata": {},
   "source": [
    "🏁 **Now, is a good point to switch driver and navigator**"
   ]
  },
  {
   "cell_type": "markdown",
   "id": "35d6b9dd",
   "metadata": {},
   "source": [
    "### 🚩 Exercise 5 (CORE)\n",
    "\n",
    "Examine if/which of the features are correlated to each other. Are any of the features correlated with our output (`median_house_value`) variable?\n",
    "\n",
    "- Can you think of any reason why certain features may be correlated?\n",
    "\n",
    "- How might we use this information in later steps of our model pipeline?\n",
    "\n",
    "<br><br>\n",
    "<details><summary><b><u>Hint</b></u></summary>\n",
    "    \n",
    "- <code>.corr()</code> can be used to compute the correlations.\n",
    "- You can use a <code>sns.heatmap</code> to visualize the correlations\n",
    "    \n",
    "</details>"
   ]
  },
  {
   "cell_type": "code",
   "execution_count": null,
   "id": "c625b6e3",
   "metadata": {},
   "outputs": [],
   "source": []
  },
  {
   "cell_type": "markdown",
   "id": "fa388b25",
   "metadata": {},
   "source": []
  },
  {
   "cell_type": "markdown",
   "id": "782c9475",
   "metadata": {},
   "source": [
    "### 🚩 Exercise 6 (CORE)\n",
    "\n",
    "Use `sns.pairplot` to further investigate the joint relationship between each pair of variables. What insights into the data might this provide over looking only at the correlation?"
   ]
  },
  {
   "cell_type": "code",
   "execution_count": null,
   "id": "c3df4b32",
   "metadata": {},
   "outputs": [],
   "source": []
  },
  {
   "cell_type": "markdown",
   "id": "37aad4c1",
   "metadata": {},
   "source": []
  },
  {
   "cell_type": "markdown",
   "id": "7a175ef6",
   "metadata": {},
   "source": [
    "### 🚩 Exercise 7 (CORE)\n",
    "\n",
    "Which variables in our data represent counts and how are they distributed? Use a probability plot `scipy.stats.probplot(df[variable], dist=\"norm\")` to compare their distributions with a normal."
   ]
  },
  {
   "cell_type": "code",
   "execution_count": null,
   "id": "1f7728f8",
   "metadata": {},
   "outputs": [],
   "source": []
  },
  {
   "cell_type": "markdown",
   "id": "e2892041",
   "metadata": {},
   "source": []
  },
  {
   "cell_type": "markdown",
   "id": "5975241b",
   "metadata": {},
   "source": [
    "# Data Pre-Processing <a id='prep'></a>\n",
    "\n",
    "Now we have some familiarity with the data though EDA, lets start preparing our data to be modelled.\n",
    "\n",
    "From here on in, we should really be creating functions for our data transformations. This is because when we want to run data through our \"model pipeline\" in the future, rather than having to copy and paste a load of code, we can just use a series of functions. Later on the course, we will see this is useful when we split our data into training, validation, and test sets, but this would also be required if you deploy your model in a \"live\" environment. Furthermore, when refining a model it makes it easier for us to treat our preparation choices as \"hyperparameters\", meaning we can easily add or remove parts of our pipeline to see what works and what doesn't.\n",
    "\n",
    "Its also worth examining what is meant by a **\"Pipeline\"**. \n",
    "\n",
    "- A general definition is that it is just a sequence of data preparation operations that is ensured to be reproducible. \n",
    "\n",
    "- However, we may want to ensure that any functions/classes we make for our pipeline have specific attributes that work best with the tools available in our chosen machine learning library. \n",
    "\n",
    "- In this course we are mostly going to be using `Scikit-learn`, with a little `Keras` at the end for neural networks.\n",
    "\n",
    "__Scikit-learn__\n",
    "\n",
    "Scikit-learn is an open source machine learning library that supports supervised and unsupervised learning (https://scikit-learn.org/stable/getting_started.html). \n",
    "\n",
    "It also provides various tools for model fitting, data preprocessing, model selection and evaluation, and many other utilities. \n",
    "\n",
    "In Scikit-Learn a `Pipeline` is a class we can use to combine our pre-processing and modelling steps together (https://scikit-learn.org/stable/modules/generated/sklearn.pipeline.Pipeline.html).\n",
    "\n",
    "A `Pipeline` is useful for many reasons, including that they help prevent you from data leakage, i.e. disclosing some testing data in your training data. Objects that go into a scikit-learn `Pipeline` can either be _transformer_ or _estimator_ classes, or, if we use an imbalanced-learn `Pipeline` instead, also _resamplers_.\n",
    "\n",
    "All three of these objects (_resamplers_, _transformers_, and _estimator_) all typically have a `.fit()` method, which is used to\n",
    "- validate and interpret any parameters, \n",
    "- validate the input data, \n",
    "- estimate and store attributes from the parameters and provided data, \n",
    "- return the fitted estimator to facilitate method chaining in a pipeline. \n",
    "\n",
    "Along with other sample properties (e.g. `sample_weight`), the `.fit()` method usually takes two inputs:\n",
    "\n",
    "> - The input matrix (or design matrix) X. The size of X is typically (n_samples, n_features), which means that samples are represented as rows and features are represented as columns.\n",
    ">\n",
    "> - The target values y which are real numbers for regression tasks, or integers for classification (or any other discrete set of values). For unsupervized learning tasks, y does not need to be specified. \n",
    ">\n",
    "> https://scikit-learn.org/stable/getting_started.html\n",
    "\n",
    "Other methods available for these objects other than `.fit()` will depend on what they are, so we will look at each of these objects in turn and then combine them into a model pipeline later in this workshop."
   ]
  },
  {
   "cell_type": "markdown",
   "id": "918eb513",
   "metadata": {},
   "source": [
    "In general, it is good practice to adhere the **Scikit-Learn Design principles** when creating our pipeline steps.\n",
    "\n",
    ">- __Nonproliferation of classes__. Datasets are represented as NumPy arrays or SciPy sparse matrices, instead of homemade classes. Hyperparameters are just regular Python strings or numbers.\n",
    ">- This means all our functions should **input and output Numpy arrays**. You can of course use pandas functions if you wish in your function, but just make sure that you convert the data back to output the Numpy array object! \n",
    ">- Otherwise, in some steps, there might appear some object/data type errors\n",
    "\n",
    "Lets start by splitting our **features** from our **target** variable in the data set."
   ]
  },
  {
   "cell_type": "code",
   "execution_count": 10,
   "id": "98aab1f7",
   "metadata": {},
   "outputs": [
    {
     "name": "stdout",
     "output_type": "stream",
     "text": [
      "['longitude', 'latitude', 'housing_median_age', 'total_rooms', 'total_bedrooms', 'population', 'households', 'median_income', 'ocean_proximity']\n",
      "[[-122.23 37.88 41.0 ... 126.0 8.3252 'NEAR BAY']\n",
      " [-122.22 37.86 21.0 ... 1138.0 8.3014 'NEAR BAY']\n",
      " [-122.24 37.85 52.0 ... 177.0 7.2574 'NEAR BAY']\n",
      " ...\n",
      " [-121.22 39.43 17.0 ... 433.0 1.7 'INLAND']\n",
      " [-121.32 39.43 18.0 ... 349.0 1.8672 'INLAND']\n",
      " [-121.24 39.37 16.0 ... 530.0 2.3886 'INLAND']]\n",
      "(19648, 9)\n"
     ]
    }
   ],
   "source": [
    "# Extracting the features from the data\n",
    "X = housing.drop(\"median_house_value\", axis = 1)\n",
    "features = list(X.columns)\n",
    "print(features)\n",
    "\n",
    "X = X.values\n",
    "print(X) # Or display(X)\n",
    "print(X.shape)"
   ]
  },
  {
   "cell_type": "code",
   "execution_count": 11,
   "id": "2b94d471",
   "metadata": {},
   "outputs": [
    {
     "name": "stdout",
     "output_type": "stream",
     "text": [
      "[452600. 358500. 352100. ...  92300.  84700.  89400.]\n",
      "(19648,)\n"
     ]
    }
   ],
   "source": [
    "# Extracting the target features from the data\n",
    "y = housing[\"median_house_value\"].copy()\n",
    "y = y.values\n",
    "\n",
    "print(y) # Or display(y_train)\n",
    "print(y.shape)"
   ]
  },
  {
   "cell_type": "markdown",
   "id": "921eeea5",
   "metadata": {},
   "source": [
    "\n",
    "## Data Cleaning\n",
    "\n",
    "At this stage in our workflow we may want to deal with duplicated/missing values and (optionally) fix/remove outliers. Let's start with the former.\n",
    "\n",
    "We want to remove duplicates as they may bias our fitted model. In other words, we may potentially *overfit* to this subset of points. However, care should usually be taken to check they are not _real_ data with identical values.\n",
    "\n",
    "There a number of ways we could identify duplicates, the simplist (and the approach we'll focus on) is just to find observations with the same feature values. Of course this will not identify things such as spelling errors, missing values, address changes, use of aliases, etc. For those such things, more complicated methods along with manual assessment is needed."
   ]
  },
  {
   "cell_type": "markdown",
   "id": "41f79976",
   "metadata": {},
   "source": [
    "### 🚩 Exercise 8 (CORE)\n",
    "\n",
    "Are there any duplicated values in the data? If so how many?\n",
    "\n",
    "<br>\n",
    "<details><summary><b><u>Hint</b></u></summary>\n",
    "\n",
    "With Pandas dataframes you can use `.duplicated()` to get a boolean of whether something is a duplicate and then use `.sum()` to count how many there are.\n",
    "</details>"
   ]
  },
  {
   "cell_type": "code",
   "execution_count": null,
   "id": "0ec0693b",
   "metadata": {},
   "outputs": [],
   "source": []
  },
  {
   "cell_type": "markdown",
   "id": "263ae3b5",
   "metadata": {},
   "source": [
    "🏁 **Now, is a good point to switch driver and navigator**"
   ]
  },
  {
   "cell_type": "markdown",
   "id": "190be914",
   "metadata": {},
   "source": [
    "### Outlier Detection\n",
    "\n",
    "An **Outlier** is a data point that lies abnormally far from other observations and may distort the model fit and results. In general, it is a good idea to examine if any outliers are present during preprocessing.  However, it may not always be appropriate to drop these observations without explicit knowledge and testing if they are really outliers or not.\n",
    "\n",
    "We will use basic statistics in order to try to identify outliers. A simple method of detecting outliers is to use the **inter-quartile range (IQR) proximity rule** (Tukey fences) which states that a value is an outlier if it falls outside these boundaries:\n",
    "\n",
    "- Upper boundary = 75th quantile + (IQR * $k$) \n",
    "\n",
    "- Lower boundary = 25th quantile - (IQR * $k$)\n",
    "\n",
    "where IQR = 75th quantile - 25th quantile (the length of the box in the box plot). Here, $k$ is a nonnegative constant which is typically set to 1.5. However, it is also common practice to find extreme values by setting $k$ to 3."
   ]
  },
  {
   "cell_type": "markdown",
   "id": "22ba01ec",
   "metadata": {},
   "source": [
    "### 🚩 Exercise 9 (CORE)\n",
    "\n",
    "Can you identify any potential outliers using the generated boxplots below ?"
   ]
  },
  {
   "cell_type": "code",
   "execution_count": 12,
   "id": "1aa0a542",
   "metadata": {},
   "outputs": [
    {
     "data": {
      "image/png": "[encoded data removed]",
      "text/plain": [
       "<Figure size 2000x1000 with 8 Axes>"
      ]
     },
     "metadata": {},
     "output_type": "display_data"
    }
   ],
   "source": [
    "fig, axes = plt.subplots(figsize = (20,10), ncols = X.shape[-1]//2, nrows = 2, sharex = True)\n",
    "axes = axes.flatten()\n",
    "\n",
    "for i, ax in enumerate(axes):\n",
    "    sns.boxplot(y = X[:,i], ax = ax) \n",
    "    ax.set_title(features[i])\n",
    "    ax.set_ylabel(\"\")\n",
    "    \n",
    "plt.suptitle(\"Boxplots\")\n",
    "plt.tight_layout()\n",
    "plt.show()"
   ]
  },
  {
   "cell_type": "markdown",
   "id": "c5014212",
   "metadata": {},
   "source": []
  },
  {
   "cell_type": "markdown",
   "id": "22caab77",
   "metadata": {},
   "source": [
    "- After detecting outliers we may want to set them to NA values so we can use subseqent methods to either remove them (NA Removal) or impute their values (Data Imputation). \n",
    "\n",
    "- In general, it is a good idea to make our methods into functions that are compatible with scikit-learn, so that we can use them in a `Pipeline` later on. \n",
    "\n",
    "- The removal of outliers is NOT an easy task, should not necessarily be applied all the time, especially if you are interested in rare events. In general, without any specific knowledge for the problem at hand or without statistical examination of outliers via suitable testing tools, it is not recommended to remove these observations by looking only at the above boxplots. \n",
    "\n",
    "- Another issue might be related to the sample size of your data set. Even though the `housing` data is large, in some cases, when you drop those observations you can discard important information unwittingly!\n",
    "\n",
    "**For the sake of simplicity, we are keeping all observations at that moment for this workshop.** "
   ]
  },
  {
   "cell_type": "markdown",
   "id": "407d08a5",
   "metadata": {},
   "source": [
    "### Missing Data\n",
    "\n",
    "Most ML models cannot handle missing values, and as we saw earlier, there are some present in `total_bedrooms`. \n",
    "\n",
    "There are a number of ways we can deal with missing values but to start with, let's just **remove NA values**. \n",
    "We can do this in two ways by either:\n",
    "\n",
    "1. Getting rid of the corresponding observations (deleting the corresponding rows).\n",
    "2. Getting rid of the whole attribute (deleting the corresponding columns).\n",
    "\n",
    "To do this outside of a pipeline is relatively straight forward, we just run `housing.dropna()` with either the `axis` set to `0` or `1` (depending if we want to remove rows or columns) before splitting our data into features (`X`) and outputs (`y`). \n",
    "\n",
    "However if we want to do this in a pipeline we can use the `FunctionSampler` from `imblearn`. "
   ]
  },
  {
   "cell_type": "markdown",
   "id": "d66706d9",
   "metadata": {},
   "source": [
    "### 🚩 Exercise 10  (CORE)\n",
    "\n",
    "Write a function named `drop_na` that takes the `X` and `y` objects, and outputs these objects with the missing  observations removed. What is the shape after dropping the missing observations?\n",
    "\n",
    "__Notes__\n",
    "\n",
    "- It may be tempting to overwrite `X` and `y` while working on our pre-processing steps. __Don't do this!__ We will run these objects through these steps inside our pipeline later so if you want to test your function make sure to assign the output to tempory objects (e.g. `X_, y_`).\n",
    "\n",
    "- Your functions should output a  `np.array`.\n",
    "\n",
    "<details><summary><b><u>Hint</b></u></summary>\n",
    "Your function could use the following steps:\n",
    "    \n",
    "- has `X` and `y` as inputs (features and targets), \n",
    "    \n",
    "- adds the targets as a new column on the end of the features data (`np.concatenate`),\n",
    "    \n",
    "- converts the array into `pd.DataFrame`    \n",
    "    \n",
    "- drops the missing observations,\n",
    "    \n",
    "- outputs the `X` and `y` separately again as `np.array`.\n",
    "   \n",
    "</details>"
   ]
  },
  {
   "cell_type": "code",
   "execution_count": null,
   "id": "dbbe74d5",
   "metadata": {},
   "outputs": [],
   "source": []
  },
  {
   "cell_type": "markdown",
   "id": "d8ec755d",
   "metadata": {},
   "source": [
    "If we want to remove missing _observations_ from our data using a function that is compatible with a `Pipeline`, we are going to need to turn it into a _resampler_.\n",
    "\n",
    "__Resamplers__\n",
    "\n",
    "Resamplers are classes that follow the scikit-learn API and have a sampling functionality through the `.resample()` method. Like all other scikit-learn methods, they have a `.fit()` method which is only applied during pipeline training. This means if we want to create our own resampler from scratch that is compatible with scikit-learn, we just have to make a class that has three methods; `.fit()`,  `.resample()`, and `.fit_resample()`; with the latter just chaining the other two together.\n",
    "\n",
    "Therefore to resample a dataset, each sampler implements:\n",
    "\n",
    "```\n",
    "obj.fit(data, targets)\n",
    "data_resampled, targets_resampled = obj.resample(data, targets)\n",
    "```\n",
    "\n",
    "or simply...\n",
    "\n",
    "```\n",
    "data_resampled, targets_resampled = obj.fit_resample(data, targets)\n",
    "```\n",
    "\n",
    "We can make a custom pipeline function by just wrappring our function in the handy `FunctionSampler` from `imblearn` to make it compatible.\n",
    "\n",
    "__Notes__\n",
    "\n",
    "- Imbalanced-learn (imported as imblearn) is an open source, MIT-licensed library relying on scikit-learn (imported as sklearn) and provides tools when dealing with classification with imbalanced classes.\n",
    "\n",
    "- We need a resampler to drop any missing observations in our dataset as these objects are used to reduce or increase the number of samples (observations) in both our feature data (`X`) and our targets (`y`).\n",
    "\n",
    "- _\"Unlike scikit-learn, imbalanced-learn provides support for pandas in/out. Therefore providing a dataframe, will output as well a dataframe\".\n",
    "\n",
    "- Don't worry if you are stuggling to understand classes as we introduce them this week, we'll get more practice over the coming weeks!\n",
    "\n",
    "1. https://imbalanced-learn.org/stable/introduction.html\n",
    "2. https://imbalanced-learn.org/stable/auto_examples/applications/plot_outlier_rejections.html#sphx-glr-auto-examples-applications-plot-outlier-rejections-py"
   ]
  },
  {
   "cell_type": "code",
   "execution_count": 13,
   "id": "14e906b3",
   "metadata": {},
   "outputs": [],
   "source": [
    "# Install the imblearn library first by\n",
    "# !pip install imblearn"
   ]
  },
  {
   "cell_type": "code",
   "execution_count": 15,
   "id": "2d86598b",
   "metadata": {},
   "outputs": [
    {
     "ename": "NameError",
     "evalue": "name 'drop_na' is not defined",
     "output_type": "error",
     "traceback": [
      "\u001b[0;31m---------------------------------------------------------------------------\u001b[0m",
      "\u001b[0;31mNameError\u001b[0m                                 Traceback (most recent call last)",
      "Cell \u001b[0;32mIn[15], line 13\u001b[0m\n\u001b[1;32m      2\u001b[0m \u001b[38;5;28;01mfrom\u001b[39;00m \u001b[38;5;21;01mimblearn\u001b[39;00m \u001b[38;5;28;01mimport\u001b[39;00m FunctionSampler\n\u001b[1;32m      4\u001b[0m \u001b[38;5;66;03m# Uncomment this code if you were not able to define the drop_na function\u001b[39;00m\n\u001b[1;32m      5\u001b[0m \u001b[38;5;66;03m# def drop_na(X, y, axis = 0):\u001b[39;00m\n\u001b[1;32m      6\u001b[0m \u001b[38;5;66;03m#     data = np.concatenate([X,y.reshape(-1,1)], axis=1)\u001b[39;00m\n\u001b[0;32m   (...)\u001b[0m\n\u001b[1;32m     11\u001b[0m \n\u001b[1;32m     12\u001b[0m \u001b[38;5;66;03m# create a sampler using our function\u001b[39;00m\n\u001b[0;32m---> 13\u001b[0m na_sampler \u001b[38;5;241m=\u001b[39m FunctionSampler(func\u001b[38;5;241m=\u001b[39m\u001b[43mdrop_na\u001b[49m,    \u001b[38;5;66;03m# our custom function\u001b[39;00m\n\u001b[1;32m     14\u001b[0m                              validate\u001b[38;5;241m=\u001b[39m\u001b[38;5;28;01mFalse\u001b[39;00m)  \u001b[38;5;66;03m# prevents both inputs being changed to numpy arrays\u001b[39;00m\n",
      "\u001b[0;31mNameError\u001b[0m: name 'drop_na' is not defined"
     ]
    }
   ],
   "source": [
    "# Call the necessary part of the module\n",
    "from imblearn import FunctionSampler\n",
    "\n",
    "# Uncomment this code if you were not able to define the drop_na function\n",
    "# def drop_na(X, y, axis = 0):\n",
    "#     data = np.concatenate([X,y.reshape(-1,1)], axis=1)\n",
    "#     df = pd.DataFrame(data)\n",
    "#     df = df.dropna(axis = axis)\n",
    "#     data = df.values\n",
    "#     return data[:,:-1], data[:,-1]\n",
    "\n",
    "# create a sampler using our function\n",
    "na_sampler = FunctionSampler(func=drop_na,    # our custom function\n",
    "                             validate=False)  # prevents both inputs being changed to numpy arrays"
   ]
  },
  {
   "cell_type": "markdown",
   "id": "611d98ef",
   "metadata": {},
   "source": [
    "Now the above-created `na_sampler` is ready to use for the next exercise. Note that turning-off **validation** allows to use the `FunctionSampler` with any type of data."
   ]
  },
  {
   "cell_type": "markdown",
   "id": "f35b9d5a",
   "metadata": {},
   "source": [
    "### 🚩 Exercise 11  (CORE)\n",
    "\n",
    "Using `.fit` and `.resample`, or `.fit_resample`, check to see if the `na_sampler` reduces the number of observations in the data.\n",
    "\n",
    "__Note__\n",
    "\n",
    "- Make sure to not overwrite your data!\n",
    "\n",
    "<br />\n",
    "<details><summary><b><u>Hint</b></u></summary>    \n",
    "Consider combining the defined `na_sampler` and `.fit_resample`.\n",
    "</details>"
   ]
  },
  {
   "cell_type": "code",
   "execution_count": null,
   "id": "58c6e16e",
   "metadata": {},
   "outputs": [
    {
     "ename": "",
     "evalue": "",
     "output_type": "error",
     "traceback": [
      "\u001b[1;31mRunning cells with 'venv' requires the ipykernel package.\n",
      "\u001b[1;31mRun the following command to install 'ipykernel' into the Python environment. \n",
      "\u001b[1;31mCommand: '/Users/jsleadbetter/edinburgh/machine_learning_in_python/venv/bin/python -m pip install ipykernel -U --force-reinstall'"
     ]
    }
   ],
   "source": []
  },
  {
   "cell_type": "markdown",
   "id": "f5a38d3c",
   "metadata": {},
   "source": [
    "### Data Imputation (EXTRA)\n",
    "\n",
    "Instead of removing the missing data we can set it to some value. To do this, Scikit-Learn gives us a handy `SimpleImputer` method which provides a number of strategies (e.g. `\"mean\"`, `\"median\"`)."
   ]
  },
  {
   "cell_type": "code",
   "execution_count": 16,
   "id": "5f8070ac",
   "metadata": {},
   "outputs": [
    {
     "ename": "ValueError",
     "evalue": "Cannot use median strategy with non-numeric data:\ncould not convert string to float: 'NEAR BAY'",
     "output_type": "error",
     "traceback": [
      "\u001b[0;31m---------------------------------------------------------------------------\u001b[0m",
      "\u001b[0;31mValueError\u001b[0m                                Traceback (most recent call last)",
      "Cell \u001b[0;32mIn[16], line 4\u001b[0m\n\u001b[1;32m      1\u001b[0m \u001b[38;5;28;01mfrom\u001b[39;00m \u001b[38;5;21;01msklearn\u001b[39;00m\u001b[38;5;21;01m.\u001b[39;00m\u001b[38;5;21;01mimpute\u001b[39;00m \u001b[38;5;28;01mimport\u001b[39;00m SimpleImputer\n\u001b[1;32m      2\u001b[0m num_imputer \u001b[38;5;241m=\u001b[39m SimpleImputer(strategy\u001b[38;5;241m=\u001b[39m\u001b[38;5;124m\"\u001b[39m\u001b[38;5;124mmedian\u001b[39m\u001b[38;5;124m\"\u001b[39m)\n\u001b[0;32m----> 4\u001b[0m X_imp \u001b[38;5;241m=\u001b[39m \u001b[43mnum_imputer\u001b[49m\u001b[38;5;241;43m.\u001b[39;49m\u001b[43mfit_transform\u001b[49m\u001b[43m(\u001b[49m\u001b[43mX\u001b[49m\u001b[43m)\u001b[49m\n",
      "File \u001b[0;32m~/edinburgh/machine_learning_in_python/venv/lib/python3.11/site-packages/sklearn/utils/_set_output.py:157\u001b[0m, in \u001b[0;36m_wrap_method_output.<locals>.wrapped\u001b[0;34m(self, X, *args, **kwargs)\u001b[0m\n\u001b[1;32m    155\u001b[0m \u001b[38;5;129m@wraps\u001b[39m(f)\n\u001b[1;32m    156\u001b[0m \u001b[38;5;28;01mdef\u001b[39;00m \u001b[38;5;21mwrapped\u001b[39m(\u001b[38;5;28mself\u001b[39m, X, \u001b[38;5;241m*\u001b[39margs, \u001b[38;5;241m*\u001b[39m\u001b[38;5;241m*\u001b[39mkwargs):\n\u001b[0;32m--> 157\u001b[0m     data_to_wrap \u001b[38;5;241m=\u001b[39m \u001b[43mf\u001b[49m\u001b[43m(\u001b[49m\u001b[38;5;28;43mself\u001b[39;49m\u001b[43m,\u001b[49m\u001b[43m \u001b[49m\u001b[43mX\u001b[49m\u001b[43m,\u001b[49m\u001b[43m \u001b[49m\u001b[38;5;241;43m*\u001b[39;49m\u001b[43margs\u001b[49m\u001b[43m,\u001b[49m\u001b[43m \u001b[49m\u001b[38;5;241;43m*\u001b[39;49m\u001b[38;5;241;43m*\u001b[39;49m\u001b[43mkwargs\u001b[49m\u001b[43m)\u001b[49m\n\u001b[1;32m    158\u001b[0m     \u001b[38;5;28;01mif\u001b[39;00m \u001b[38;5;28misinstance\u001b[39m(data_to_wrap, \u001b[38;5;28mtuple\u001b[39m):\n\u001b[1;32m    159\u001b[0m         \u001b[38;5;66;03m# only wrap the first output for cross decomposition\u001b[39;00m\n\u001b[1;32m    160\u001b[0m         return_tuple \u001b[38;5;241m=\u001b[39m (\n\u001b[1;32m    161\u001b[0m             _wrap_data_with_container(method, data_to_wrap[\u001b[38;5;241m0\u001b[39m], X, \u001b[38;5;28mself\u001b[39m),\n\u001b[1;32m    162\u001b[0m             \u001b[38;5;241m*\u001b[39mdata_to_wrap[\u001b[38;5;241m1\u001b[39m:],\n\u001b[1;32m    163\u001b[0m         )\n",
      "File \u001b[0;32m~/edinburgh/machine_learning_in_python/venv/lib/python3.11/site-packages/sklearn/base.py:916\u001b[0m, in \u001b[0;36mTransformerMixin.fit_transform\u001b[0;34m(self, X, y, **fit_params)\u001b[0m\n\u001b[1;32m    912\u001b[0m \u001b[38;5;66;03m# non-optimized default implementation; override when a better\u001b[39;00m\n\u001b[1;32m    913\u001b[0m \u001b[38;5;66;03m# method is possible for a given clustering algorithm\u001b[39;00m\n\u001b[1;32m    914\u001b[0m \u001b[38;5;28;01mif\u001b[39;00m y \u001b[38;5;129;01mis\u001b[39;00m \u001b[38;5;28;01mNone\u001b[39;00m:\n\u001b[1;32m    915\u001b[0m     \u001b[38;5;66;03m# fit method of arity 1 (unsupervised transformation)\u001b[39;00m\n\u001b[0;32m--> 916\u001b[0m     \u001b[38;5;28;01mreturn\u001b[39;00m \u001b[38;5;28;43mself\u001b[39;49m\u001b[38;5;241;43m.\u001b[39;49m\u001b[43mfit\u001b[49m\u001b[43m(\u001b[49m\u001b[43mX\u001b[49m\u001b[43m,\u001b[49m\u001b[43m \u001b[49m\u001b[38;5;241;43m*\u001b[39;49m\u001b[38;5;241;43m*\u001b[39;49m\u001b[43mfit_params\u001b[49m\u001b[43m)\u001b[49m\u001b[38;5;241m.\u001b[39mtransform(X)\n\u001b[1;32m    917\u001b[0m \u001b[38;5;28;01melse\u001b[39;00m:\n\u001b[1;32m    918\u001b[0m     \u001b[38;5;66;03m# fit method of arity 2 (supervised transformation)\u001b[39;00m\n\u001b[1;32m    919\u001b[0m     \u001b[38;5;28;01mreturn\u001b[39;00m \u001b[38;5;28mself\u001b[39m\u001b[38;5;241m.\u001b[39mfit(X, y, \u001b[38;5;241m*\u001b[39m\u001b[38;5;241m*\u001b[39mfit_params)\u001b[38;5;241m.\u001b[39mtransform(X)\n",
      "File \u001b[0;32m~/edinburgh/machine_learning_in_python/venv/lib/python3.11/site-packages/sklearn/base.py:1152\u001b[0m, in \u001b[0;36m_fit_context.<locals>.decorator.<locals>.wrapper\u001b[0;34m(estimator, *args, **kwargs)\u001b[0m\n\u001b[1;32m   1145\u001b[0m     estimator\u001b[38;5;241m.\u001b[39m_validate_params()\n\u001b[1;32m   1147\u001b[0m \u001b[38;5;28;01mwith\u001b[39;00m config_context(\n\u001b[1;32m   1148\u001b[0m     skip_parameter_validation\u001b[38;5;241m=\u001b[39m(\n\u001b[1;32m   1149\u001b[0m         prefer_skip_nested_validation \u001b[38;5;129;01mor\u001b[39;00m global_skip_validation\n\u001b[1;32m   1150\u001b[0m     )\n\u001b[1;32m   1151\u001b[0m ):\n\u001b[0;32m-> 1152\u001b[0m     \u001b[38;5;28;01mreturn\u001b[39;00m \u001b[43mfit_method\u001b[49m\u001b[43m(\u001b[49m\u001b[43mestimator\u001b[49m\u001b[43m,\u001b[49m\u001b[43m \u001b[49m\u001b[38;5;241;43m*\u001b[39;49m\u001b[43margs\u001b[49m\u001b[43m,\u001b[49m\u001b[43m \u001b[49m\u001b[38;5;241;43m*\u001b[39;49m\u001b[38;5;241;43m*\u001b[39;49m\u001b[43mkwargs\u001b[49m\u001b[43m)\u001b[49m\n",
      "File \u001b[0;32m~/edinburgh/machine_learning_in_python/venv/lib/python3.11/site-packages/sklearn/impute/_base.py:369\u001b[0m, in \u001b[0;36mSimpleImputer.fit\u001b[0;34m(self, X, y)\u001b[0m\n\u001b[1;32m    351\u001b[0m \u001b[38;5;129m@_fit_context\u001b[39m(prefer_skip_nested_validation\u001b[38;5;241m=\u001b[39m\u001b[38;5;28;01mTrue\u001b[39;00m)\n\u001b[1;32m    352\u001b[0m \u001b[38;5;28;01mdef\u001b[39;00m \u001b[38;5;21mfit\u001b[39m(\u001b[38;5;28mself\u001b[39m, X, y\u001b[38;5;241m=\u001b[39m\u001b[38;5;28;01mNone\u001b[39;00m):\n\u001b[1;32m    353\u001b[0m \u001b[38;5;250m    \u001b[39m\u001b[38;5;124;03m\"\"\"Fit the imputer on `X`.\u001b[39;00m\n\u001b[1;32m    354\u001b[0m \n\u001b[1;32m    355\u001b[0m \u001b[38;5;124;03m    Parameters\u001b[39;00m\n\u001b[0;32m   (...)\u001b[0m\n\u001b[1;32m    367\u001b[0m \u001b[38;5;124;03m        Fitted estimator.\u001b[39;00m\n\u001b[1;32m    368\u001b[0m \u001b[38;5;124;03m    \"\"\"\u001b[39;00m\n\u001b[0;32m--> 369\u001b[0m     X \u001b[38;5;241m=\u001b[39m \u001b[38;5;28;43mself\u001b[39;49m\u001b[38;5;241;43m.\u001b[39;49m\u001b[43m_validate_input\u001b[49m\u001b[43m(\u001b[49m\u001b[43mX\u001b[49m\u001b[43m,\u001b[49m\u001b[43m \u001b[49m\u001b[43min_fit\u001b[49m\u001b[38;5;241;43m=\u001b[39;49m\u001b[38;5;28;43;01mTrue\u001b[39;49;00m\u001b[43m)\u001b[49m\n\u001b[1;32m    371\u001b[0m     \u001b[38;5;66;03m# default fill_value is 0 for numerical input and \"missing_value\"\u001b[39;00m\n\u001b[1;32m    372\u001b[0m     \u001b[38;5;66;03m# otherwise\u001b[39;00m\n\u001b[1;32m    373\u001b[0m     \u001b[38;5;28;01mif\u001b[39;00m \u001b[38;5;28mself\u001b[39m\u001b[38;5;241m.\u001b[39mfill_value \u001b[38;5;129;01mis\u001b[39;00m \u001b[38;5;28;01mNone\u001b[39;00m:\n",
      "File \u001b[0;32m~/edinburgh/machine_learning_in_python/venv/lib/python3.11/site-packages/sklearn/impute/_base.py:330\u001b[0m, in \u001b[0;36mSimpleImputer._validate_input\u001b[0;34m(self, X, in_fit)\u001b[0m\n\u001b[1;32m    324\u001b[0m \u001b[38;5;28;01mif\u001b[39;00m \u001b[38;5;124m\"\u001b[39m\u001b[38;5;124mcould not convert\u001b[39m\u001b[38;5;124m\"\u001b[39m \u001b[38;5;129;01min\u001b[39;00m \u001b[38;5;28mstr\u001b[39m(ve):\n\u001b[1;32m    325\u001b[0m     new_ve \u001b[38;5;241m=\u001b[39m \u001b[38;5;167;01mValueError\u001b[39;00m(\n\u001b[1;32m    326\u001b[0m         \u001b[38;5;124m\"\u001b[39m\u001b[38;5;124mCannot use \u001b[39m\u001b[38;5;132;01m{}\u001b[39;00m\u001b[38;5;124m strategy with non-numeric data:\u001b[39m\u001b[38;5;130;01m\\n\u001b[39;00m\u001b[38;5;132;01m{}\u001b[39;00m\u001b[38;5;124m\"\u001b[39m\u001b[38;5;241m.\u001b[39mformat(\n\u001b[1;32m    327\u001b[0m             \u001b[38;5;28mself\u001b[39m\u001b[38;5;241m.\u001b[39mstrategy, ve\n\u001b[1;32m    328\u001b[0m         )\n\u001b[1;32m    329\u001b[0m     )\n\u001b[0;32m--> 330\u001b[0m     \u001b[38;5;28;01mraise\u001b[39;00m new_ve \u001b[38;5;28;01mfrom\u001b[39;00m \u001b[38;5;28;01mNone\u001b[39;00m\n\u001b[1;32m    331\u001b[0m \u001b[38;5;28;01melse\u001b[39;00m:\n\u001b[1;32m    332\u001b[0m     \u001b[38;5;28;01mraise\u001b[39;00m ve\n",
      "\u001b[0;31mValueError\u001b[0m: Cannot use median strategy with non-numeric data:\ncould not convert string to float: 'NEAR BAY'"
     ]
    }
   ],
   "source": [
    "from sklearn.impute import SimpleImputer\n",
    "num_imputer = SimpleImputer(strategy=\"median\")\n",
    "\n",
    "X_imp = num_imputer.fit_transform(X)"
   ]
  },
  {
   "cell_type": "markdown",
   "id": "d3aad241",
   "metadata": {},
   "source": [
    "When we applied this to our data, we get the following error:\n",
    "\n",
    "```\n",
    "ValueError: Cannot use median strategy with non-numeric data:\n",
    "could not convert string to float:\n",
    "```\n",
    "\n",
    "This is because the \"median\" strategy can only be used with numerical attributes so we need a way of only applying imputation to certain attributes. As with most things in Python, there are a number of options available to us (you may have already used one of them in answers to previous questions): \n",
    "\n",
    "- We could temporarily remove the categorical feature from our data to apply our function\n",
    "```\n",
    "X_num = X[:,:-1]\n",
    "X_num = num_imputer.fit_transform(X_num)\n",
    "```\n",
    "- Apply the function to a subset of the data and assign the output to the same subset \n",
    "```\n",
    "X[:,:-1] = num_imputer.fit_transform(X[:,:-1])\n",
    "```\n",
    "\n",
    "However scikit-learn has a handy function to specify what column we want to apply a function to (its also compatible with `Pipeline`s as well)."
   ]
  },
  {
   "cell_type": "code",
   "execution_count": null,
   "id": "7254de74",
   "metadata": {},
   "outputs": [
    {
     "ename": "",
     "evalue": "",
     "output_type": "error",
     "traceback": [
      "\u001b[1;31mRunning cells with 'venv' requires the ipykernel package.\n",
      "\u001b[1;31mRun the following command to install 'ipykernel' into the Python environment. \n",
      "\u001b[1;31mCommand: '/Users/jsleadbetter/edinburgh/machine_learning_in_python/venv/bin/python -m pip install ipykernel -U --force-reinstall'"
     ]
    }
   ],
   "source": [
    "from sklearn.compose import ColumnTransformer\n",
    "\n",
    "num_cols_imputer = ColumnTransformer(\n",
    "    # apply the `num_imputer` to all columns apart from the last\n",
    "    [(\"num\", num_imputer, list(range(X.shape[1] - 1)))],\n",
    "    # don't touch all other columns, instead concatenate it on the end of the\n",
    "    # changed data.\n",
    "    remainder = \"passthrough\"\n",
    ") \n",
    "\n",
    "X_ = num_cols_imputer.fit_transform(X)\n",
    "print(\"Number of Missing Values\")\n",
    "pd.DataFrame(X_, columns = features).isna().sum()"
   ]
  },
  {
   "cell_type": "markdown",
   "id": "e893924e",
   "metadata": {},
   "source": [
    "After using `.fit` we can see that this method stores the median value for each attribute on the training set. This value can be used when validating and testing the model as it will be used if there is missing data in the new data.\n",
    "\n",
    "__Note__\n",
    "- To access the fitted `num_imputer` in this case, you first needed to subset the `transformers_` in `ColumnTransformer` to only the first tuple (`[0]`), and then get the second object (`[1]`) in the list (the `num_imputer`)."
   ]
  },
  {
   "cell_type": "code",
   "execution_count": null,
   "id": "7d3a3794",
   "metadata": {},
   "outputs": [
    {
     "ename": "",
     "evalue": "",
     "output_type": "error",
     "traceback": [
      "\u001b[1;31mRunning cells with 'venv' requires the ipykernel package.\n",
      "\u001b[1;31mRun the following command to install 'ipykernel' into the Python environment. \n",
      "\u001b[1;31mCommand: '/Users/jsleadbetter/edinburgh/machine_learning_in_python/venv/bin/python -m pip install ipykernel -U --force-reinstall'"
     ]
    }
   ],
   "source": [
    "display(num_cols_imputer.transformers_[0][1].statistics_)"
   ]
  },
  {
   "cell_type": "markdown",
   "id": "20460a1f",
   "metadata": {},
   "source": [
    "🏁 **Now, is a good point to switch driver and navigator**"
   ]
  },
  {
   "cell_type": "markdown",
   "id": "9c62e8cb",
   "metadata": {},
   "source": [
    "# Feature Engineering <a id='engin'></a>\n",
    "\n",
    "As discussed in the lectures, feature engineering is where we extract features from data and transform them into formats that are suitable for machine learning models. Today, we will have a look at two main cases that are present in our data: **categorical** and **numerical** values.\n",
    "\n",
    "In the previous section, we learned about _resamplers_, which provide a preprocessing step in our `Pipeline` to __alter the number of observations__. Instead, feature engineering requires a _transformer_ class as we only need to __alter the features__ and not the number of observations.\n",
    "\n",
    "\n",
    "__Transformers__\n",
    "\n",
    "- Transformers in Scikit-Learn [clean](https://scikit-learn.org/stable/modules/preprocessing.html#preprocessing), [reduce](https://scikit-learn.org/stable/modules/unsupervised_reduction.html#data-reduction), [expand](https://scikit-learn.org/stable/modules/kernel_approximation.html#kernel-approximation), or [generate](https://scikit-learn.org/stable/modules/feature_extraction.html#feature-extraction) feature representations.\n",
    "\n",
    "- Transformers are classes with a `.fit()` method, which learn model parameters (e.g. mean and standard deviation for normalization) from a training set, and a `.transform()` method which applies this transformation model to data. To create a custom transformer, all you need is to create a class that implements three methods: `fit()`, `transform()`, and `fit_transform()`.\n",
    "\n",
    "Therefore to transform a dataset, each sampler implements:\n",
    "\n",
    "```\n",
    "obj.fit(data)\n",
    "data_transformed = obj.transform(data)\n",
    "```\n",
    "\n",
    "or simply...\n",
    "\n",
    "```\n",
    "data_transformed = obj.fit_transform(data)\n",
    "```\n",
    "\n",
    "See more details: https://scikit-learn.org/stable/data_transforms.html. In the following subsections, we will see examples of _transformers_ for categorical and numerical variables."
   ]
  },
  {
   "cell_type": "markdown",
   "id": "1baa3603",
   "metadata": {},
   "source": [
    "## Categorical Variables\n",
    "\n",
    "- In the dataset, we have an text attribute (`ocean_proximity`) that we already had to treat differently when cleaning the data. This extends to feature engineering as well, where we need to use separate methods than those used with numerical variables.\n",
    "\n",
    "- If we look at the unique values of this attribute, we will see that there are a limited number of possible values which represent a category. We need a way of encoding this information into our modeling framework **by converting our string/categorical variable into a numeric representation** that can be included in our models.\n",
    "\n",
    "If we have a binary categorical variable (two levels) we could do this by picking one of the categorical levels and encode it as 1 and the other level as 0. \n",
    "\n",
    ">- To do this in Python, we can compare our categorical vector to the value of our choice and then cast (convert) the result to an integer type. \n",
    ">- In the example below, imagine for the purposes of our model we only wanted to know if the property was \"inland\" or not, then we could do the following."
   ]
  },
  {
   "cell_type": "code",
   "execution_count": null,
   "id": "73c0f267",
   "metadata": {},
   "outputs": [
    {
     "ename": "",
     "evalue": "",
     "output_type": "error",
     "traceback": [
      "\u001b[1;31mRunning cells with 'venv' requires the ipykernel package.\n",
      "\u001b[1;31mRun the following command to install 'ipykernel' into the Python environment. \n",
      "\u001b[1;31mCommand: '/Users/jsleadbetter/edinburgh/machine_learning_in_python/venv/bin/python -m pip install ipykernel -U --force-reinstall'"
     ]
    }
   ],
   "source": [
    "X_ = X.copy() # so we don't overwrite our data\n",
    "X_[:,-1] = (X_[:,-1] == \"INLAND\").astype(int) # Returns either 0 or 1\n",
    "\n",
    "print(\"Original Data\")\n",
    "display(X[:, -1]) # -1 is just about reverse indexing to select only ocean_proximity variable \n",
    "print(\"Encoded Data\")\n",
    "X_[:, -1]"
   ]
  },
  {
   "cell_type": "markdown",
   "id": "97afb2f5",
   "metadata": {},
   "source": [
    "\n",
    "In this case as we have multiple categories, we would probably want to use another encoding method. To illustrate, we can try encoding the the categorical feature `ocean_proximity` using both the `OrdinalEncoder` and `OneHotEncoder` available in `sklearn.preprocessing`.\n",
    "\n",
    "__Side Notes__\n",
    "\n",
    "- The output of the `OneHotEncoder` provided in Scikit-Learn is a SciPy _sparse matrix_, instead of a NumPy array. These are useful when you have lots of categories as your matrix becomes mostly full of 0's. To store all these 0's takes up unneccesary memory, so instead a sparse matrix just stores the location of nonzero elements. The good news is that you can use a sparse matrix similar to a numpy matrix, but if you wanted to, you can convert it to a dense numpy matrix using `.toarray()`.\n",
    "\n",
    "- The above does not seem to be the case if passed through a `ColumnTransformer`."
   ]
  },
  {
   "cell_type": "code",
   "execution_count": null,
   "id": "dd0bbf79",
   "metadata": {},
   "outputs": [
    {
     "ename": "",
     "evalue": "",
     "output_type": "error",
     "traceback": [
      "\u001b[1;31mRunning cells with 'venv' requires the ipykernel package.\n",
      "\u001b[1;31mRun the following command to install 'ipykernel' into the Python environment. \n",
      "\u001b[1;31mCommand: '/Users/jsleadbetter/edinburgh/machine_learning_in_python/venv/bin/python -m pip install ipykernel -U --force-reinstall'"
     ]
    }
   ],
   "source": [
    "from sklearn.preprocessing import OrdinalEncoder\n",
    "# Defining the OrdinalEncoder\n",
    "ordinal_encoder = OrdinalEncoder()\n",
    "\n",
    "encoder = ColumnTransformer([\n",
    "    # pass through all columns with numerical values \n",
    "    (\"num\", \"passthrough\", list(range(X.shape[1] - 1))), \n",
    "    # apply the ordinal_encoder to the last column\n",
    "    (\"cat\", ordinal_encoder, [X.shape[1] - 1]),\n",
    "])\n",
    "\n",
    "# fitting the encoder defined above\n",
    "housing_cat_encoded = encoder.fit_transform(X) \n",
    "\n",
    "display(dict(zip(list(encoder.transformers_[1][1].categories_[0]), range(5))))"
   ]
  },
  {
   "cell_type": "code",
   "execution_count": null,
   "id": "80826ab8",
   "metadata": {},
   "outputs": [
    {
     "ename": "",
     "evalue": "",
     "output_type": "error",
     "traceback": [
      "\u001b[1;31mRunning cells with 'venv' requires the ipykernel package.\n",
      "\u001b[1;31mRun the following command to install 'ipykernel' into the Python environment. \n",
      "\u001b[1;31mCommand: '/Users/jsleadbetter/edinburgh/machine_learning_in_python/venv/bin/python -m pip install ipykernel -U --force-reinstall'"
     ]
    }
   ],
   "source": [
    "from sklearn.preprocessing import OneHotEncoder\n",
    "# Defining the OneHotEncoder\n",
    "onehot_encoder = OneHotEncoder()\n",
    "\n",
    "encoder = ColumnTransformer([\n",
    "    # pass through all columns with numerical values \n",
    "    (\"num\", \"passthrough\", list(range(X.shape[1] - 1))), \n",
    "    # apply the onehot_encoder to the last column\n",
    "    (\"cat\", onehot_encoder, [X.shape[1] - 1]),\n",
    "]) \n",
    "\n",
    "housing_cat_1hot = encoder.fit_transform(X) \n",
    "cats = pd.Series(X[:,-1]).unique()\n",
    "pd.DataFrame(encoder.transformers_[1][1].transform(cats.reshape(-1, 1)).toarray(), columns = cats).astype(int)"
   ]
  },
  {
   "cell_type": "markdown",
   "id": "235ae4fa",
   "metadata": {},
   "source": [
    "### 🚩 Exercise 12 (CORE)\n",
    "\n",
    "- What is the main difference between two methods regarding the obtained features ?\n",
    "\n",
    "- Which encoding method do you think is most appropriate for this variable and why?"
   ]
  },
  {
   "cell_type": "markdown",
   "id": "53654fdb",
   "metadata": {},
   "source": []
  },
  {
   "cell_type": "markdown",
   "id": "88a2ca07",
   "metadata": {},
   "source": [
    "## Numerical Variables\n",
    "\n",
    "### Box-Cox Transformation\n",
    "\n",
    "In some cases, we may wish to apply transformations to our data, so that they have a more Gaussian distribution (an assumption of a number of the models we will use later). For example, log transformations are useful for altering count data to have a more normal distribution as they pull in the more extreme high values relative to the median, while stretching back extreme low values away from the median. You can use a log transformation with either the pre-made `LogTransformer()` from `feature_engine.transformation`, or a custom function and `sklearn.preprocessing.FunctionTransformer`.\n",
    "\n",
    "More generally, the natural logarithm, square root, and inverse transformations are special cases of the **Box-Cox** family of transformations (Box and Cox 1964). The question is why do we need such a transformation and when? \n",
    "\n",
    "- Note that, the method is typically used to transform the outcome, but can also be used to transform predictors. \n",
    "\n",
    "- The method assumes that the variable takes only positive values. If there are any zero or negative values, a modification of the Box-Cox that allows non-positive values (Box-Cox with negatives, BCN) can be used (Hawkins and Weisberg 2017). \n",
    "\n",
    "- If there are zero values, but no negative values, an option is to add a small number (e.g. 1) before carrying out the transformation, although if there are a large number of zero values then it is possible no Box-Cox transformation will sufficiently normalize the variable.\n",
    "\n",
    "Originally, the Box-Cox procedure was developed to transform the outcome and uses maximum likelihood estimation to estimate a transformation parameter $\\lambda$.\n",
    "\n",
    "$\\tilde{y} = \\left\\{ \\begin{array}{l l} \\frac{y^{\\lambda} - 1}{\\lambda}, & \\lambda \\neq 0 \\\\ \\log y, & \\lambda = 0 \\\\ \\end{array} \\right.$\n",
    "\n",
    "- $\\lambda$ is estimated from the data. \n",
    "\n",
    "- Because the parameter of interest is in the exponent, this type of transformation is called a power transformation\n",
    "\n",
    "- Some values of $\\lambda$ map to common transformations, such as;\n",
    "\n",
    "    >* $\\lambda = 1$ (no transformation)   \n",
    "    >* $\\lambda = 0$ (log)   \n",
    "    >* $\\lambda = 0.5$ (square root)   \n",
    "    >* $\\lambda = -1$ (inverse)\n",
    "\n",
    "- Using the code below, if `lmbda=None` then the function will \"find the lambda that maximizes the log-likelihood function and return it as the second output argument\"\n",
    "\n",
    "- Notice that we can not use `lambda` directly since it conflicts with the available object called `lambda`, this is the reason we preferred the indicator name as `lmbda`\n",
    "\n"
   ]
  },
  {
   "cell_type": "code",
   "execution_count": null,
   "id": "07f2f2d2",
   "metadata": {},
   "outputs": [
    {
     "ename": "",
     "evalue": "",
     "output_type": "error",
     "traceback": [
      "\u001b[1;31mRunning cells with 'venv' requires the ipykernel package.\n",
      "\u001b[1;31mRun the following command to install 'ipykernel' into the Python environment. \n",
      "\u001b[1;31mCommand: '/Users/jsleadbetter/edinburgh/machine_learning_in_python/venv/bin/python -m pip install ipykernel -U --force-reinstall'"
     ]
    }
   ],
   "source": [
    "fig, axes = plt.subplots(figsize = (15,5), ncols = 4, nrows=2, sharey = True)\n",
    "axes = axes.flatten()\n",
    "sns.histplot(data = X[:,6], ax = axes[0])\n",
    "axes[0].set_title(\"Raw Counts\")\n",
    "\n",
    "for i, lmbda in enumerate([0, 0.25, 0.5, 0.75, 1., 1.25, 1.5]):\n",
    "    \n",
    "    house_box_ = stats.boxcox(X[:, 6].astype(float), lmbda = lmbda)\n",
    "    sns.histplot(data = house_box_, ax = axes[i + 1])\n",
    "    axes[i + 1].set_title(\"$\\lambda$ = {}\".format(lmbda))\n",
    "    \n",
    "plt.tight_layout()\n",
    "plt.show()"
   ]
  },
  {
   "cell_type": "markdown",
   "id": "e9771630",
   "metadata": {},
   "source": [
    "### 🚩 Exercise 13 (CORE)\n",
    "\n",
    "- For the variable `households`, based on the `boxcox` transform shown above, which values of $\\lambda$ may be useful? \n",
    "\n",
    "- Apply a similar code snippet to `median_house_value`. Which values of $\\lambda$ may be useful?"
   ]
  },
  {
   "cell_type": "markdown",
   "id": "8e39bfaa",
   "metadata": {},
   "source": []
  },
  {
   "cell_type": "code",
   "execution_count": null,
   "id": "980eb0dd",
   "metadata": {},
   "outputs": [
    {
     "ename": "",
     "evalue": "",
     "output_type": "error",
     "traceback": [
      "\u001b[1;31mRunning cells with 'venv' requires the ipykernel package.\n",
      "\u001b[1;31mRun the following command to install 'ipykernel' into the Python environment. \n",
      "\u001b[1;31mCommand: '/Users/jsleadbetter/edinburgh/machine_learning_in_python/venv/bin/python -m pip install ipykernel -U --force-reinstall'"
     ]
    }
   ],
   "source": []
  },
  {
   "cell_type": "markdown",
   "id": "26b19544",
   "metadata": {},
   "source": []
  },
  {
   "cell_type": "markdown",
   "id": "85ac2548",
   "metadata": {},
   "source": [
    "## Feature Combinations\n",
    "\n",
    "- Looking at the datas attributes we may also want to manually combine them into features that are either a more meaningful representation of the data or have better properties.\n",
    "\n",
    "- For example, we know **the number of rooms** in a district, but this may be more useful to combine with the **number of households** so that we have **a measure of rooms per household**."
   ]
  },
  {
   "cell_type": "code",
   "execution_count": null,
   "id": "4cb21a4c",
   "metadata": {},
   "outputs": [
    {
     "ename": "",
     "evalue": "",
     "output_type": "error",
     "traceback": [
      "\u001b[1;31mRunning cells with 'venv' requires the ipykernel package.\n",
      "\u001b[1;31mRun the following command to install 'ipykernel' into the Python environment. \n",
      "\u001b[1;31mCommand: '/Users/jsleadbetter/edinburgh/machine_learning_in_python/venv/bin/python -m pip install ipykernel -U --force-reinstall'"
     ]
    }
   ],
   "source": [
    "col_names = \"total_rooms\", \"households\"\n",
    "rooms_ix, households_ix = [housing.columns.get_loc(c) for c in col_names] \n",
    "\n",
    "rooms_per_household = X[:, rooms_ix] / X[:, households_ix]\n",
    "rooms_per_household"
   ]
  },
  {
   "cell_type": "markdown",
   "id": "1b54fa66",
   "metadata": {},
   "source": [
    "\n",
    "### 🚩 Exercise 14 (EXTRA)\n",
    "\n",
    "- Can you think of other combinations that may be useful?\n",
    "\n",
    "- Create a custom transformer that creates these new combinations of features using the `FunctionTransformer`.\n",
    "\n",
    "<br />\n",
    "<details><summary><b><u>Hint</b></u></summary>\n",
    "What about the following?\n",
    "   \n",
    "- `population_per_household`\n",
    "    \n",
    "- `bedrooms_per_room`\n",
    "    \n",
    "</details>"
   ]
  },
  {
   "cell_type": "code",
   "execution_count": null,
   "id": "a5c9732f",
   "metadata": {},
   "outputs": [
    {
     "ename": "",
     "evalue": "",
     "output_type": "error",
     "traceback": [
      "\u001b[1;31mRunning cells with 'venv' requires the ipykernel package.\n",
      "\u001b[1;31mRun the following command to install 'ipykernel' into the Python environment. \n",
      "\u001b[1;31mCommand: '/Users/jsleadbetter/edinburgh/machine_learning_in_python/venv/bin/python -m pip install ipykernel -U --force-reinstall'"
     ]
    }
   ],
   "source": []
  },
  {
   "cell_type": "markdown",
   "id": "c87e28c8",
   "metadata": {},
   "source": [
    "🏁 **Now, is a good point to switch driver and navigator**"
   ]
  },
  {
   "cell_type": "markdown",
   "id": "f1675270",
   "metadata": {},
   "source": [
    "## Feature Scaling\n",
    "\n",
    "As we will discuss in later weeks, many machine learning algorithms are sensitive to the scale and magnitude of the features, and especially differences in scales across features. For these algorithms, feature scaling will improve performance. \n",
    "\n",
    "For example, let's investigate the range of the features in our dataset:"
   ]
  },
  {
   "cell_type": "code",
   "execution_count": null,
   "id": "95502c30",
   "metadata": {},
   "outputs": [
    {
     "ename": "",
     "evalue": "",
     "output_type": "error",
     "traceback": [
      "\u001b[1;31mRunning cells with 'venv' requires the ipykernel package.\n",
      "\u001b[1;31mRun the following command to install 'ipykernel' into the Python environment. \n",
      "\u001b[1;31mCommand: '/Users/jsleadbetter/edinburgh/machine_learning_in_python/venv/bin/python -m pip install ipykernel -U --force-reinstall'"
     ]
    }
   ],
   "source": [
    "fig, ax = plt.subplots(figsize=(15,5))\n",
    "\n",
    "plt.boxplot(X[:,:-1], vert = False) \n",
    "plt.xscale(\"symlog\") \n",
    "plt.ylabel(\"Feature\") \n",
    "plt.xlabel(\"Feature Range\")\n",
    "\n",
    "ax.set_yticklabels(features[:-1])\n",
    "\n",
    "plt.suptitle(\"Feature Range for the Training Set\")\n",
    "plt.tight_layout()\n",
    "plt.show()"
   ]
  },
  {
   "cell_type": "markdown",
   "id": "ed094614",
   "metadata": {},
   "source": [
    "There are various options in scikit learn for feature scaling: \n",
    "\n",
    "- Standardization (`preprocessing.StandardScaler`)\n",
    "\n",
    "- Min-Max Scaling (`preprocessing.MinMaxScaler`)\n",
    "\n",
    "- l2 Normalization (`preprocessing.normalize`)\n",
    "\n",
    "- RobustScaler(`preprocessing.RobustScaler`)\n",
    "\n",
    "- Scale with maximum absolute value (`preprocessing.MaxAbsScaler`)\n",
    "\n",
    ">- As scaling generally improves the performance of most models when features cover a range of scales, it is probably a good idea to apply some sort of scaling to our data before fitting a model. \n",
    ">- *Standardization* (or *variance scaling*), is the most common, but there are a number of other types, as listed above."
   ]
  },
  {
   "cell_type": "markdown",
   "id": "76b39faa",
   "metadata": {},
   "source": [
    "### 🚩 Exercise 14 (EXTRA)\n",
    "\n",
    "Try implementing different scalers for the `total_rooms` variable to see the main differences. "
   ]
  },
  {
   "cell_type": "code",
   "execution_count": null,
   "id": "0f42c577",
   "metadata": {},
   "outputs": [
    {
     "ename": "",
     "evalue": "",
     "output_type": "error",
     "traceback": [
      "\u001b[1;31mRunning cells with 'venv' requires the ipykernel package.\n",
      "\u001b[1;31mRun the following command to install 'ipykernel' into the Python environment. \n",
      "\u001b[1;31mCommand: '/Users/jsleadbetter/edinburgh/machine_learning_in_python/venv/bin/python -m pip install ipykernel -U --force-reinstall'"
     ]
    }
   ],
   "source": []
  },
  {
   "cell_type": "markdown",
   "id": "616e8e0f",
   "metadata": {},
   "source": [
    "## Combining into a Pipeline\n",
    "\n",
    "Due to the focus of this week, lets look at combining different feature engineering steps together to make different model pipelines.\n",
    "\n",
    "- We want to create a basic model pipeline that treats the **numerical** and **categorical** attributes differently. \n",
    "- To achive this we are going to use a combination of `Pipeline` and `ColumnTransformer` objects.\n",
    "- We also need to supply the pipeline with a model. For now let's use a linear regression model, which we will learn in more details in week 4.\n",
    "\n",
    "We can of course do this outside of a pipeline, but remember to be careful about data leakage."
   ]
  },
  {
   "cell_type": "code",
   "execution_count": null,
   "id": "38d6bd96",
   "metadata": {},
   "outputs": [
    {
     "ename": "",
     "evalue": "",
     "output_type": "error",
     "traceback": [
      "\u001b[1;31mRunning cells with 'venv' requires the ipykernel package.\n",
      "\u001b[1;31mRun the following command to install 'ipykernel' into the Python environment. \n",
      "\u001b[1;31mCommand: '/Users/jsleadbetter/edinburgh/machine_learning_in_python/venv/bin/python -m pip install ipykernel -U --force-reinstall'"
     ]
    }
   ],
   "source": [
    "from sklearn.preprocessing import StandardScaler\n",
    "from sklearn.linear_model import LinearRegression\n",
    "from imblearn.pipeline import Pipeline\n",
    "from sklearn.preprocessing import OneHotEncoder\n",
    "from sklearn import set_config\n",
    "set_config(display='diagram')\n",
    "\n",
    "num_pre = Pipeline([\n",
    "    (\"num_impute\", SimpleImputer(strategy=\"median\")),\n",
    "    (\"num_scale\", StandardScaler())])\n",
    "\n",
    "cat_pre = Pipeline([\n",
    "    (\"cat_impute\", SimpleImputer(strategy=\"constant\")),\n",
    "    (\"cat_encode\", OneHotEncoder())])\n",
    "\n",
    "reg_pipe_1 = Pipeline([\n",
    "    (\"pre_processing\", ColumnTransformer([(\"num_pre\", num_pre, list(range(X.shape[1]-1))),\n",
    "                                          (\"cat_pre\", cat_pre, [X.shape[1]-1])])),\n",
    "    (\"model\", LinearRegression())\n",
    "])\n",
    "\n",
    "reg_pipe_1"
   ]
  },
  {
   "cell_type": "code",
   "execution_count": null,
   "id": "23bc87d7",
   "metadata": {},
   "outputs": [
    {
     "ename": "",
     "evalue": "",
     "output_type": "error",
     "traceback": [
      "\u001b[1;31mRunning cells with 'venv' requires the ipykernel package.\n",
      "\u001b[1;31mRun the following command to install 'ipykernel' into the Python environment. \n",
      "\u001b[1;31mCommand: '/Users/jsleadbetter/edinburgh/machine_learning_in_python/venv/bin/python -m pip install ipykernel -U --force-reinstall'"
     ]
    }
   ],
   "source": [
    "reg_pipe_1.fit(X,y)\n",
    "# Print the R squared (ranges 0 to 1, with higher values better)\n",
    "print(round(reg_pipe_1.score(X, y), 3))"
   ]
  },
  {
   "cell_type": "code",
   "execution_count": null,
   "id": "04c52c0d",
   "metadata": {},
   "outputs": [
    {
     "ename": "",
     "evalue": "",
     "output_type": "error",
     "traceback": [
      "\u001b[1;31mRunning cells with 'venv' requires the ipykernel package.\n",
      "\u001b[1;31mRun the following command to install 'ipykernel' into the Python environment. \n",
      "\u001b[1;31mCommand: '/Users/jsleadbetter/edinburgh/machine_learning_in_python/venv/bin/python -m pip install ipykernel -U --force-reinstall'"
     ]
    }
   ],
   "source": [
    "# Print the coeffcients\n",
    "reg_pipe_1[1].coef_"
   ]
  },
  {
   "cell_type": "markdown",
   "id": "0dce8d3b",
   "metadata": {},
   "source": [
    "Let's try some other combinations of the pre-processing and feature engineering steps that we have learned about this week."
   ]
  },
  {
   "cell_type": "code",
   "execution_count": null,
   "id": "a4f984a7",
   "metadata": {},
   "outputs": [
    {
     "ename": "",
     "evalue": "",
     "output_type": "error",
     "traceback": [
      "\u001b[1;31mRunning cells with 'venv' requires the ipykernel package.\n",
      "\u001b[1;31mRun the following command to install 'ipykernel' into the Python environment. \n",
      "\u001b[1;31mCommand: '/Users/jsleadbetter/edinburgh/machine_learning_in_python/venv/bin/python -m pip install ipykernel -U --force-reinstall'"
     ]
    }
   ],
   "source": [
    "# NOTE: ADDITIONAL transformer for the pipeline\n",
    "# Creating the Transformer for box-cox implementation \n",
    "from sklearn.preprocessing import FunctionTransformer\n",
    "\n",
    "def boxcoxarray(X, y=None, lmbda=None):\n",
    "    X_ = X.copy()\n",
    "    for i in range(X.shape[1]):\n",
    "        if lmbda == None:\n",
    "            X_[:,i], bc_params_ = stats.boxcox(X_[:,i], lmbda = lmbda)\n",
    "        else:\n",
    "            X_[:,i] = stats.boxcox(X_[:,i], lmbda = lmbda)\n",
    "    return X_\n",
    "\n",
    "# Creating our transformer from the pre-defined boxcoxarray callable function:\n",
    "boxtransformer = FunctionTransformer(boxcoxarray, validate = True)"
   ]
  },
  {
   "cell_type": "code",
   "execution_count": null,
   "id": "337a9315",
   "metadata": {},
   "outputs": [
    {
     "ename": "",
     "evalue": "",
     "output_type": "error",
     "traceback": [
      "\u001b[1;31mRunning cells with 'venv' requires the ipykernel package.\n",
      "\u001b[1;31mRun the following command to install 'ipykernel' into the Python environment. \n",
      "\u001b[1;31mCommand: '/Users/jsleadbetter/edinburgh/machine_learning_in_python/venv/bin/python -m pip install ipykernel -U --force-reinstall'"
     ]
    }
   ],
   "source": [
    "# Reg Pipe 2\n",
    "num_pre = Pipeline([\n",
    "    (\"num_impute\", SimpleImputer(strategy=\"median\")),\n",
    "    (\"num_scale\", StandardScaler())])\n",
    "\n",
    "count_pre = Pipeline([\n",
    "    (\"num_impute\", SimpleImputer(strategy=\"median\")),\n",
    "    (\"num_transform\", boxtransformer),\n",
    "    (\"num_scale\", StandardScaler())])\n",
    "\n",
    "cat_pre = Pipeline([\n",
    "    (\"cat_impute\", SimpleImputer(strategy=\"constant\")),\n",
    "    (\"cat_encode\", OneHotEncoder())])\n",
    "\n",
    "# Overall ML pipeline inlcuding all \n",
    "reg_pipe_2 = Pipeline([\n",
    "    (\"pre_processing\", ColumnTransformer([\n",
    "        (\"num_pre\", num_pre, [0, 1, 2, 7]), # Applied to the columns/variables in 0, 1, 2, 7 index\n",
    "        (\"count_pre\", count_pre, [3, 4, 5, 6]), # Applied to the columns/variables in 3, 4, 5, 6 index\n",
    "        (\"cat_pre\", cat_pre, [8])])), # Applied to the columns/variables in 8 index only (ocean_proximity)\n",
    "        (\"model\", LinearRegression())\n",
    "])\n",
    "\n",
    "display(reg_pipe_2)"
   ]
  },
  {
   "cell_type": "code",
   "execution_count": null,
   "id": "4a06ab25",
   "metadata": {},
   "outputs": [
    {
     "ename": "",
     "evalue": "",
     "output_type": "error",
     "traceback": [
      "\u001b[1;31mRunning cells with 'venv' requires the ipykernel package.\n",
      "\u001b[1;31mRun the following command to install 'ipykernel' into the Python environment. \n",
      "\u001b[1;31mCommand: '/Users/jsleadbetter/edinburgh/machine_learning_in_python/venv/bin/python -m pip install ipykernel -U --force-reinstall'"
     ]
    }
   ],
   "source": [
    "reg_pipe_2.fit(X,y)\n",
    "# Print the R squared (ranges 0 to 1, with higher values better)\n",
    "print(round(reg_pipe_2.score(X, y), 3))"
   ]
  },
  {
   "cell_type": "code",
   "execution_count": null,
   "id": "bb145d17",
   "metadata": {},
   "outputs": [
    {
     "ename": "",
     "evalue": "",
     "output_type": "error",
     "traceback": [
      "\u001b[1;31mRunning cells with 'venv' requires the ipykernel package.\n",
      "\u001b[1;31mRun the following command to install 'ipykernel' into the Python environment. \n",
      "\u001b[1;31mCommand: '/Users/jsleadbetter/edinburgh/machine_learning_in_python/venv/bin/python -m pip install ipykernel -U --force-reinstall'"
     ]
    }
   ],
   "source": [
    "# Print the coeffcients\n",
    "reg_pipe_2[1].coef_"
   ]
  },
  {
   "cell_type": "code",
   "execution_count": null,
   "id": "0fef7ed9",
   "metadata": {},
   "outputs": [
    {
     "ename": "",
     "evalue": "",
     "output_type": "error",
     "traceback": [
      "\u001b[1;31mRunning cells with 'venv' requires the ipykernel package.\n",
      "\u001b[1;31mRun the following command to install 'ipykernel' into the Python environment. \n",
      "\u001b[1;31mCommand: '/Users/jsleadbetter/edinburgh/machine_learning_in_python/venv/bin/python -m pip install ipykernel -U --force-reinstall'"
     ]
    }
   ],
   "source": [
    "# Reg Pipe 3\n",
    "from feature_engine.transformation import LogTransformer\n",
    "\n",
    "num_pre = Pipeline([\n",
    "    (\"num_impute\", SimpleImputer(strategy=\"median\")),\n",
    "    (\"num_scale\", StandardScaler())])\n",
    "\n",
    "num2_pre = Pipeline([\n",
    "    (\"num_impute\", SimpleImputer(strategy=\"median\")),\n",
    "    (\"num_transform\", LogTransformer()),\n",
    "    (\"num_scale\", StandardScaler())])\n",
    "\n",
    "cat_pre = Pipeline([\n",
    "    (\"cat_impute\", SimpleImputer(strategy=\"constant\")),\n",
    "    (\"cat_encode\", OneHotEncoder())])\n",
    "\n",
    "# Overall ML pipeline inlcuding all \n",
    "reg_pipe_3 = Pipeline([\n",
    "    (\"pre_processing\", ColumnTransformer([\n",
    "        (\"num_pre\", num_pre, [0, 1]), # Applied to the columns/variables in 0, 1 index\n",
    "        (\"num2_pre\", count_pre, [3, 4, 5, 6, 7]), # Applied to the columns/variables in 2, 3, 4, 5, 6, 7 index\n",
    "        (\"cat_pre\", cat_pre, [8])])), # Applied to the columns/variables in 8 index only (ocean_proximity)\n",
    "        (\"model\", LinearRegression())\n",
    "])\n",
    "\n",
    "display(reg_pipe_3)"
   ]
  },
  {
   "cell_type": "code",
   "execution_count": null,
   "id": "42095d46",
   "metadata": {},
   "outputs": [
    {
     "ename": "",
     "evalue": "",
     "output_type": "error",
     "traceback": [
      "\u001b[1;31mRunning cells with 'venv' requires the ipykernel package.\n",
      "\u001b[1;31mRun the following command to install 'ipykernel' into the Python environment. \n",
      "\u001b[1;31mCommand: '/Users/jsleadbetter/edinburgh/machine_learning_in_python/venv/bin/python -m pip install ipykernel -U --force-reinstall'"
     ]
    }
   ],
   "source": [
    "reg_pipe_3.fit(X,y)\n",
    "# Print the R squared (ranges 0 to 1, with higher values better)\n",
    "print(round(reg_pipe_3.score(X, y), 3))"
   ]
  },
  {
   "cell_type": "code",
   "execution_count": null,
   "id": "197f966d",
   "metadata": {},
   "outputs": [
    {
     "ename": "",
     "evalue": "",
     "output_type": "error",
     "traceback": [
      "\u001b[1;31mRunning cells with 'venv' requires the ipykernel package.\n",
      "\u001b[1;31mRun the following command to install 'ipykernel' into the Python environment. \n",
      "\u001b[1;31mCommand: '/Users/jsleadbetter/edinburgh/machine_learning_in_python/venv/bin/python -m pip install ipykernel -U --force-reinstall'"
     ]
    }
   ],
   "source": [
    "# Print the coeffcients\n",
    "reg_pipe_3[1].coef_"
   ]
  },
  {
   "cell_type": "markdown",
   "id": "b3cf166c",
   "metadata": {},
   "source": [
    "### 🚩 Exercise 15 (CORE)\n",
    "\n",
    "Explain in words what are the differences in pre-processing and feature engineering steps in the three models above. "
   ]
  },
  {
   "cell_type": "markdown",
   "id": "2a3dd8d1",
   "metadata": {},
   "source": []
  },
  {
   "cell_type": "markdown",
   "id": "7746906b",
   "metadata": {},
   "source": [
    "### 🚩 Exercise 16 (EXTRA)\n",
    "\n",
    "Try to create your own pipeline by modifying at least one of the pre-processing and feature engineering steps above. What have you decided to change and why?"
   ]
  },
  {
   "cell_type": "code",
   "execution_count": null,
   "id": "9d97c266",
   "metadata": {},
   "outputs": [
    {
     "ename": "",
     "evalue": "",
     "output_type": "error",
     "traceback": [
      "\u001b[1;31mRunning cells with 'venv' requires the ipykernel package.\n",
      "\u001b[1;31mRun the following command to install 'ipykernel' into the Python environment. \n",
      "\u001b[1;31mCommand: '/Users/jsleadbetter/edinburgh/machine_learning_in_python/venv/bin/python -m pip install ipykernel -U --force-reinstall'"
     ]
    }
   ],
   "source": []
  },
  {
   "cell_type": "markdown",
   "id": "64aa5982",
   "metadata": {},
   "source": []
  },
  {
   "cell_type": "markdown",
   "id": "a61df764",
   "metadata": {},
   "source": [
    "# Summary <a id='sum'></a>\n",
    "\n",
    "This week we covered a lot of ground!\n",
    "\n",
    "- We've looked at some methods for pre-processing our data, cleaning and preparing it, as well as how to engineer some features. \n",
    "\n",
    "- This is by **no means a complete collection of all the methods available** as covering more would go beyond the scope of this course (for those interested in learning more, have a look though the given companion readings). \n",
    "\n",
    "- For example, we did not touch on handling text and dates/time much. These topics are quite complex and have enough materials to cover their own courses."
   ]
  },
  {
   "cell_type": "markdown",
   "id": "a54e7817",
   "metadata": {},
   "source": [
    "# Competing the Worksheet\n",
    "\n",
    "At this point you have hopefully been able to complete all the CORE exercises and attempted the EXTRA ones. Now \n",
    "is a good time to check the reproducibility of this document by restarting the notebook's\n",
    "kernel and rerunning all cells in order.\n",
    "\n",
    "Before generating the PDF, please go to Edit -> Edit Notebook Metadata and change 'Student 1' and 'Student 2' in the **name** attribute to include your name.\n",
    "\n",
    "Once that is done and you are happy with everything, you can then run the following cell \n",
    "to generate your PDF."
   ]
  },
  {
   "cell_type": "code",
   "execution_count": null,
   "id": "937dba8b",
   "metadata": {},
   "outputs": [
    {
     "ename": "",
     "evalue": "",
     "output_type": "error",
     "traceback": [
      "\u001b[1;31mRunning cells with 'venv' requires the ipykernel package.\n",
      "\u001b[1;31mRun the following command to install 'ipykernel' into the Python environment. \n",
      "\u001b[1;31mCommand: '/Users/jsleadbetter/edinburgh/machine_learning_in_python/venv/bin/python -m pip install ipykernel -U --force-reinstall'"
     ]
    }
   ],
   "source": [
    "!jupyter nbconvert --to pdf mlp_week01.ipynb "
   ]
  },
  {
   "cell_type": "markdown",
   "id": "c7218599",
   "metadata": {},
   "source": [
    "Once generated, please submit this PDF on Learn page by 16:00 PM on the Friday of the week the workshop was given. Note that:\n",
    "\n",
    ">- You don't need to finish everything, but you should have had a substantial attempt at the bulk of the material, particularly the CORE tasks. \n",
    ">- If you are having trouble generating the pdf, please ask a tutor or post on piazza. \n",
    ">- As a back option, you can simply select the print option in your browser which should generate a high-quality pdf of your complete notebook. Basically, right click → Click Print → Choose 'Save as PDF' option instead of default printing destination (Check that your all materials are visible in the print preview) → Click 'Save' to get your pdf file."
   ]
  }
 ],
 "metadata": {
  "authors": [
   {
    "name": "Student 1"
   },
   {
    "name": "Student 2"
   }
  ],
  "kernelspec": {
   "display_name": "Python 3 (ipykernel)",
   "language": "python",
   "name": "python3"
  },
  "language_info": {
   "codemirror_mode": {
    "name": "ipython",
    "version": 3
   },
   "file_extension": ".py",
   "mimetype": "text/x-python",
   "name": "python",
   "nbconvert_exporter": "python",
   "pygments_lexer": "ipython3",
   "version": "3.11.7"
  },
  "title": "MLPy Workshop 1"
 },
 "nbformat": 4,
 "nbformat_minor": 5
}
